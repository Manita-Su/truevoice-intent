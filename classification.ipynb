{
 "cells": [
  {
   "cell_type": "markdown",
   "metadata": {},
   "source": [
    "# `true-intent` Destination Classification"
   ]
  },
  {
   "cell_type": "markdown",
   "metadata": {},
   "source": [
    "We provide 3 benchmarks for the 7-class multi-class classification of `destination` column in `truevoice-intnet` dataset: [fastText](https://github.com/facebookresearch/fastText), LinearSVC and [ULMFit](https://github.com/cstorm125/thai2fit). In the transfer learning cases, we first finetune the embeddings using all data. The test set contains 20% of all data split by [TrueVoice](http://www.truevoice.co.th/). The rest is split into 85/15 train-validation split randomly. Performance metrics are micro-averaged accuracy and F1 score."
   ]
  },
  {
   "cell_type": "markdown",
   "metadata": {},
   "source": [
    "| model     | accuracy | micro-F1 |\n",
    "|-----------|----------|----------|\n",
    "| fastText  | 0.384116 | 0.384116 |\n",
    "| LinearSVC | 0.807876 | 0.327565 |\n",
    "| **ULMFit**    | **0.834981**  | **0.834981** |"
   ]
  },
  {
   "cell_type": "code",
   "execution_count": 15,
   "metadata": {},
   "outputs": [],
   "source": [
    "import pandas as pd\n",
    "import numpy as np\n",
    "from pythainlp import word_tokenize\n",
    "from tqdm import tqdm_notebook\n",
    "from collections import Counter\n",
    "import re\n",
    "from sklearn.metrics import f1_score,precision_score,recall_score\n",
    "\n",
    "#viz\n",
    "from plotnine import *\n",
    "import matplotlib.pyplot as plt\n",
    "import seaborn as sns\n",
    "\n",
    "def replace_newline(t):\n",
    "    return re.sub('[\\n]{1,}', ' ', t)\n",
    "\n",
    "ft_data = 'ft_data/'\n",
    "\n",
    "y = 'destination'\n",
    "nb_class = 7"
   ]
  },
  {
   "cell_type": "code",
   "execution_count": 5,
   "metadata": {},
   "outputs": [],
   "source": [
    "import string\n",
    "import emoji\n",
    "def replace_url(text):\n",
    "    URL_PATTERN = r\"\"\"(?i)\\b((?:https?:(?:/{1,3}|[a-z0-9%])|[a-z0-9.\\-]+[.](?:com|net|org|edu|gov|mil|aero|asia|biz|cat|coop|info|int|jobs|mobi|museum|name|post|pro|tel|travel|xxx|ac|ad|ae|af|ag|ai|al|am|an|ao|aq|ar|as|at|au|aw|ax|az|ba|bb|bd|be|bf|bg|bh|bi|bj|bm|bn|bo|br|bs|bt|bv|bw|by|bz|ca|cc|cd|cf|cg|ch|ci|ck|cl|cm|cn|co|cr|cs|cu|cv|cx|cy|cz|dd|de|dj|dk|dm|do|dz|ec|ee|eg|eh|er|es|et|eu|fi|fj|fk|fm|fo|fr|ga|gb|gd|ge|gf|gg|gh|gi|gl|gm|gn|gp|gq|gr|gs|gt|gu|gw|gy|hk|hm|hn|hr|ht|hu|id|ie|il|im|in|io|iq|ir|is|it|je|jm|jo|jp|ke|kg|kh|ki|km|kn|kp|kr|kw|ky|kz|la|lb|lc|li|lk|lr|ls|lt|lu|lv|ly|ma|mc|md|me|mg|mh|mk|ml|mm|mn|mo|mp|mq|mr|ms|mt|mu|mv|mw|mx|my|mz|na|nc|ne|nf|ng|ni|nl|no|np|nr|nu|nz|om|pa|pe|pf|pg|ph|pk|pl|pm|pn|pr|ps|pt|pw|py|qa|re|ro|rs|ru|rw|sa|sb|sc|sd|se|sg|sh|si|sj|Ja|sk|sl|sm|sn|so|sr|ss|st|su|sv|sx|sy|sz|tc|td|tf|tg|th|tj|tk|tl|tm|tn|to|tp|tr|tt|tv|tw|tz|ua|ug|uk|us|uy|uz|va|vc|ve|vg|vi|vn|vu|wf|ws|ye|yt|yu|za|zm|zw)/)(?:[^\\s()<>{}\\[\\]]+|\\([^\\s()]*?\\([^\\s()]+\\)[^\\s()]*?\\)|\\([^\\s]+?\\))+(?:\\([^\\s()]*?\\([^\\s()]+\\)[^\\s()]*?\\)|\\([^\\s]+?\\)|[^\\s`!()\\[\\]{};:'\".,<>?«»“”‘’])|(?:(?<!@)[a-z0-9]+(?:[.\\-][a-z0-9]+)*[.](?:com|net|org|edu|gov|mil|aero|asia|biz|cat|coop|info|int|jobs|mobi|museum|name|post|pro|tel|travel|xxx|ac|ad|ae|af|ag|ai|al|am|an|ao|aq|ar|as|at|au|aw|ax|az|ba|bb|bd|be|bf|bg|bh|bi|bj|bm|bn|bo|br|bs|bt|bv|bw|by|bz|ca|cc|cd|cf|cg|ch|ci|ck|cl|cm|cn|co|cr|cs|cu|cv|cx|cy|cz|dd|de|dj|dk|dm|do|dz|ec|ee|eg|eh|er|es|et|eu|fi|fj|fk|fm|fo|fr|ga|gb|gd|ge|gf|gg|gh|gi|gl|gm|gn|gp|gq|gr|gs|gt|gu|gw|gy|hk|hm|hn|hr|ht|hu|id|ie|il|im|in|io|iq|ir|is|it|je|jm|jo|jp|ke|kg|kh|ki|km|kn|kp|kr|kw|ky|kz|la|lb|lc|li|lk|lr|ls|lt|lu|lv|ly|ma|mc|md|me|mg|mh|mk|ml|mm|mn|mo|mp|mq|mr|ms|mt|mu|mv|mw|mx|my|mz|na|nc|ne|nf|ng|ni|nl|no|np|nr|nu|nz|om|pa|pe|pf|pg|ph|pk|pl|pm|pn|pr|ps|pt|pw|py|qa|re|ro|rs|ru|rw|sa|sb|sc|sd|se|sg|sh|si|sj|Ja|sk|sl|sm|sn|so|sr|ss|st|su|sv|sx|sy|sz|tc|td|tf|tg|th|tj|tk|tl|tm|tn|to|tp|tr|tt|tv|tw|tz|ua|ug|uk|us|uy|uz|va|vc|ve|vg|vi|vn|vu|wf|ws|ye|yt|yu|za|zm|zw)\\b/?(?!@)))\"\"\"\n",
    "    return re.sub(URL_PATTERN, 'xxurl', text)\n",
    "\n",
    "def replace_rep(text):\n",
    "    def _replace_rep(m):\n",
    "        c,cc = m.groups()\n",
    "        return f'{c}xxrep'\n",
    "    re_rep = re.compile(r'(\\S)(\\1{2,})')\n",
    "    return re_rep.sub(_replace_rep, text)\n",
    "\n",
    "def ungroup_emoji(toks):\n",
    "    res = []\n",
    "    for tok in toks:\n",
    "        if emoji.emoji_count(tok) == len(tok):\n",
    "            for char in tok:\n",
    "                res.append(char)\n",
    "        else:\n",
    "            res.append(tok)\n",
    "    return res\n",
    "\n",
    "def process_text(text):\n",
    "    #pre rules\n",
    "    res = text.lower().strip()\n",
    "    res = replace_url(res)\n",
    "    res = replace_rep(res)\n",
    "    \n",
    "    #tokenize\n",
    "    res = [word for word in res.split('|') if word and not re.search(pattern=r\"\\s+\", string=word)]\n",
    "    \n",
    "    #post rules\n",
    "    res = ungroup_emoji(res)\n",
    "    \n",
    "    return res"
   ]
  },
  {
   "cell_type": "markdown",
   "metadata": {},
   "source": [
    "## Train-validation-test Split"
   ]
  },
  {
   "cell_type": "markdown",
   "metadata": {},
   "source": [
    "We perform 85/15 train-validation split in addition to the test split by [TrueVoice](http://www.truevoice.co.th/)."
   ]
  },
  {
   "cell_type": "code",
   "execution_count": 6,
   "metadata": {},
   "outputs": [
    {
     "name": "stdout",
     "output_type": "stream",
     "text": [
      "(10998, 5) (1941, 5) (3236, 5)\n"
     ]
    }
   ],
   "source": [
    "from sklearn.model_selection import train_test_split\n",
    "all_df = pd.read_csv(f'mari_train.csv')\n",
    "all_df['destination'] = all_df.destination.map(lambda x: x.replace(' ','_'))\n",
    "train_df, valid_df = train_test_split(all_df, test_size=0.15, random_state=1412)\n",
    "train_df = train_df.reset_index(drop=True)\n",
    "valid_df = valid_df.reset_index(drop=True)\n",
    "test_df = pd.read_csv(f'mari_test.csv')\n",
    "test_df['destination'] = test_df.destination.map(lambda x: x.replace(' ','_'))\n",
    "print(train_df.shape, valid_df.shape, test_df.shape)"
   ]
  },
  {
   "cell_type": "code",
   "execution_count": 7,
   "metadata": {},
   "outputs": [
    {
     "data": {
      "text/plain": [
       "billing_and_payment      0.301916\n",
       "internet                 0.190049\n",
       "promotions               0.182324\n",
       "other_queries            0.169654\n",
       "international_dialing    0.062732\n",
       "lost_and_stolen          0.060569\n",
       "true_money               0.032756\n",
       "Name: destination, dtype: float64"
      ]
     },
     "execution_count": 7,
     "metadata": {},
     "output_type": "execute_result"
    }
   ],
   "source": [
    "#test set prevalence\n",
    "test_df['destination'].value_counts() / test_df.shape[0]"
   ]
  },
  {
   "cell_type": "markdown",
   "metadata": {},
   "source": [
    "## [fastText](https://github.com/facebookresearch/fastText) Model"
   ]
  },
  {
   "cell_type": "markdown",
   "metadata": {},
   "source": [
    "We used embeddings pretrained on [Thai Wikipedia Dump](https://github.com/facebookresearch/fastText/blob/master/docs/pretrained-vectors.md) and finetuned them using all of `truevoice-intent` using skipgram model. After that, we do a multi-class classification and compute performance metrics."
   ]
  },
  {
   "cell_type": "code",
   "execution_count": 85,
   "metadata": {},
   "outputs": [],
   "source": [
    "df_txts = ['train','valid','test']\n",
    "dfs = [train_df,valid_df,test_df]\n",
    "\n",
    "for i in range(3):\n",
    "    df = dfs[i]\n",
    "    ft_lines = []\n",
    "    for _,row in df.iterrows():\n",
    "        ft_lab = f'__label__{row[y]}'\n",
    "        ft_text = replace_newline(f'{row[\"texts\"]}')\n",
    "        ft_line = f'{ft_lab} {ft_text}'\n",
    "        ft_lines.append(ft_line)\n",
    "\n",
    "    doc = '\\n'.join(ft_lines)\n",
    "    with open(f'{ft_data}{df_txts[i]}.txt','w') as f:\n",
    "        f.write(doc)\n",
    "    f.close()"
   ]
  },
  {
   "cell_type": "code",
   "execution_count": null,
   "metadata": {},
   "outputs": [],
   "source": [
    "#for fasttext embedding finetuning\n",
    "ft_lines = []\n",
    "for _,row in all_df.iterrows():\n",
    "    ft_lab = '__label__0'\n",
    "    ft_text = replace_newline(f'{row[\"texts\"]}')\n",
    "    ft_line = f'{ft_lab} {ft_text}'\n",
    "    ft_lines.append(ft_line)\n",
    "\n",
    "doc = '\\n'.join(ft_lines)\n",
    "with open(f'{ft_data}df_all.txt','w') as f:\n",
    "    f.write(doc)\n",
    "f.close()"
   ]
  },
  {
   "cell_type": "code",
   "execution_count": 72,
   "metadata": {},
   "outputs": [
    {
     "name": "stdout",
     "output_type": "stream",
     "text": [
      "/bin/sh: 1: /home/charin/fastText-0.1.0/fasttext: not found\r\n"
     ]
    }
   ],
   "source": [
    "#finetune with all data\n",
    "!/home/charin/fastText-0.1.0/fasttext skipgram \\\n",
    "-pretrainedVectors 'model/wiki.th.vec' -dim 300 \\\n",
    "-input ft_data/df_all.txt -output 'model/finetuned'"
   ]
  },
  {
   "cell_type": "code",
   "execution_count": 73,
   "metadata": {},
   "outputs": [
    {
     "name": "stdout",
     "output_type": "stream",
     "text": [
      "/bin/sh: 1: /home/charin/fastText-0.1.0/fasttext: not found\r\n"
     ]
    }
   ],
   "source": [
    "#train classifier\n",
    "!/home/charin/fastText-0.1.0/fasttext supervised \\\n",
    "-input 'ft_data/train.txt' -output 'model/classifier' \\\n",
    "-pretrainedVectors 'model/finetuned.vec' -epoch 5 -dim 300 -wordNgrams 2 "
   ]
  },
  {
   "cell_type": "code",
   "execution_count": 74,
   "metadata": {},
   "outputs": [],
   "source": [
    "#get prediction\n",
    "preds = !/home/charin/fastText-0.1.0/fasttext predict 'model/classifier.bin' 'ft_data/test.txt'"
   ]
  },
  {
   "cell_type": "code",
   "execution_count": 75,
   "metadata": {},
   "outputs": [],
   "source": [
    "from sklearn.metrics import f1_score, precision_score, recall_score\n",
    "from sklearn.preprocessing import OneHotEncoder\n",
    "enc = OneHotEncoder(handle_unknown='ignore')\n",
    "pred_lab = np.array([i[9:] for i in preds])\n",
    "\n",
    "enc_fit = enc.fit(test_df[y][:,None])\n",
    "pred_ohe = enc_fit.transform(pred_lab[:,None]).toarray()\n",
    "y_ohe = enc_fit.transform(test_df[y][:,None]).toarray()"
   ]
  },
  {
   "cell_type": "code",
   "execution_count": 78,
   "metadata": {},
   "outputs": [],
   "source": [
    "import warnings\n",
    "warnings.filterwarnings(\"ignore\")\n",
    "#macro metrics\n",
    "for i in range(nb_class):\n",
    "    print(\n",
    "        (pred_ohe[:,i]==y_ohe[:,i]).mean(),\n",
    "        f1_score(pred_ohe[:,i],y_ohe[:,i]),\n",
    "        precision_score(pred_ohe[:,i],y_ohe[:,i]),\n",
    "        recall_score(pred_ohe[:,i],y_ohe[:,i])\n",
    "         )"
   ]
  },
  {
   "cell_type": "code",
   "execution_count": null,
   "metadata": {},
   "outputs": [],
   "source": [
    "print('micro metrics')\n",
    "(pred_lab==test_df[y]).mean(), \\\n",
    "f1_score(test_df[y],pred_lab,average='micro'), \\\n",
    "precision_score(test_df[y],pred_lab,average='micro'), \\\n",
    "recall_score(test_df[y],pred_lab,average='micro')"
   ]
  },
  {
   "cell_type": "markdown",
   "metadata": {},
   "source": [
    "## LinearSVC Model"
   ]
  },
  {
   "cell_type": "markdown",
   "metadata": {},
   "source": [
    "Code for LinearSVC is provided by [@lukkiddd](https://github.com/lukkiddd)."
   ]
  },
  {
   "cell_type": "code",
   "execution_count": 31,
   "metadata": {},
   "outputs": [],
   "source": [
    "X_train, y_train = train_df['texts'], train_df[y]\n",
    "X_test, y_test = test_df['texts'], test_df[y]"
   ]
  },
  {
   "cell_type": "code",
   "execution_count": 41,
   "metadata": {},
   "outputs": [
    {
     "data": {
      "text/plain": [
       "Pipeline(memory=None,\n",
       "         steps=[('tfidf',\n",
       "                 CountVectorizer(analyzer='word', binary=False,\n",
       "                                 decode_error='strict',\n",
       "                                 dtype=<class 'numpy.int64'>, encoding='utf-8',\n",
       "                                 input='content', lowercase=True, max_df=1.0,\n",
       "                                 max_features=None, min_df=1,\n",
       "                                 ngram_range=(1, 2), preprocessor=None,\n",
       "                                 stop_words=None, strip_accents=None,\n",
       "                                 token_pattern='(?u)\\\\b\\\\w\\\\w+\\\\b',\n",
       "                                 tokenizer=<function word_tokenize at 0x113d48510>,\n",
       "                                 vocabulary=None)),\n",
       "                ('clf',\n",
       "                 LinearSVC(C=1.0, class_weight='balanced', dual=True,\n",
       "                           fit_intercept=True, intercept_scaling=1,\n",
       "                           loss='squared_hinge', max_iter=1000,\n",
       "                           multi_class='ovr', penalty='l2', random_state=None,\n",
       "                           tol=0.0001, verbose=0))],\n",
       "         verbose=False)"
      ]
     },
     "execution_count": 41,
     "metadata": {},
     "output_type": "execute_result"
    }
   ],
   "source": [
    "from sklearn.pipeline import Pipeline\n",
    "from sklearn.feature_extraction.text import TfidfVectorizer\n",
    "from sklearn.svm import LinearSVC\n",
    "\n",
    "text_clf = Pipeline([\n",
    "    ('tfidf', CountVectorizer(tokenizer=word_tokenize, ngram_range=(1,2))),\n",
    "    ('clf', LinearSVC(class_weight='balanced')),\n",
    "])\n",
    "\n",
    "text_clf.fit(X_train, y_train)"
   ]
  },
  {
   "cell_type": "code",
   "execution_count": 42,
   "metadata": {},
   "outputs": [
    {
     "data": {
      "text/plain": [
       "0.8887515451174289"
      ]
     },
     "execution_count": 42,
     "metadata": {},
     "output_type": "execute_result"
    }
   ],
   "source": [
    "pred = text_clf.predict(X_test)\n",
    "(pred==y_test).mean()"
   ]
  },
  {
   "cell_type": "code",
   "execution_count": 28,
   "metadata": {},
   "outputs": [],
   "source": [
    "from sklearn.preprocessing import OneHotEncoder\n",
    "enc = OneHotEncoder(handle_unknown='ignore')\n",
    "pred_lab = text_clf.predict(X_test)\n",
    "\n",
    "enc_fit = enc.fit(test_df[y][:,None])\n",
    "pred_ohe = enc_fit.transform(pred_lab[:,None]).toarray()\n",
    "y_ohe = enc_fit.transform(test_df[y][:,None]).toarray()"
   ]
  },
  {
   "cell_type": "code",
   "execution_count": 29,
   "metadata": {},
   "outputs": [
    {
     "name": "stdout",
     "output_type": "stream",
     "text": [
      "0.9082200247218789 0.8580984233158145 0.9191402251791198 0.8046594982078853\n",
      "0.9888751545117429 0.9095477386934674 0.8916256157635468 0.9282051282051282\n",
      "0.946229913473424 0.856907894736842 0.8471544715447155 0.8668885191347754\n",
      "0.9975278121137207 0.9791666666666666 0.9591836734693877 1.0\n",
      "0.9110012360939431 0.7102615694164989 0.6429872495446266 0.7932584269662921\n",
      "0.9588998763906057 0.8870008496176721 0.8847457627118644 0.889267461669506\n",
      "0.9975278121137207 0.9619047619047619 0.9528301886792453 0.9711538461538461\n"
     ]
    }
   ],
   "source": [
    "import warnings\n",
    "warnings.filterwarnings(\"ignore\")\n",
    "#macro metrics\n",
    "for i in range(nb_class):\n",
    "    print(\n",
    "        (pred_ohe[:,i]==y_ohe[:,i]).mean(),\n",
    "        f1_score(pred_ohe[:,i],y_ohe[:,i]),\n",
    "        precision_score(pred_ohe[:,i],y_ohe[:,i]),\n",
    "        recall_score(pred_ohe[:,i],y_ohe[:,i])\n",
    "         )"
   ]
  },
  {
   "cell_type": "code",
   "execution_count": 30,
   "metadata": {},
   "outputs": [
    {
     "name": "stdout",
     "output_type": "stream",
     "text": [
      "micro metrics\n"
     ]
    },
    {
     "data": {
      "text/plain": [
       "(0.9583259756312908,\n",
       " 0.8541409147095179,\n",
       " 0.8541409147095179,\n",
       " 0.8541409147095179)"
      ]
     },
     "execution_count": 30,
     "metadata": {},
     "output_type": "execute_result"
    }
   ],
   "source": [
    "print('micro metrics')\n",
    "(pred_ohe==y_ohe).mean(), \\\n",
    "f1_score(y_ohe,pred_ohe,average='micro'), \\\n",
    "precision_score(y_ohe,pred_ohe,average='micro'), \\\n",
    "recall_score(y_ohe,pred_ohe,average='micro')"
   ]
  },
  {
   "cell_type": "markdown",
   "metadata": {},
   "source": [
    "## [ULMFit](https://github.com/cstorm125/thai2fit) Model"
   ]
  },
  {
   "cell_type": "code",
   "execution_count": 22,
   "metadata": {},
   "outputs": [],
   "source": [
    "import pandas as pd\n",
    "import numpy as np\n",
    "from ast import literal_eval\n",
    "from tqdm import tqdm_notebook\n",
    "from collections import Counter\n",
    "import re\n",
    "\n",
    "#viz\n",
    "import matplotlib.pyplot as plt\n",
    "import seaborn as sns\n",
    "\n",
    "from fastai.text import *\n",
    "from fastai.callbacks import CSVLogger, SaveModelCallback\n",
    "\n",
    "from pythainlp.ulmfit import *\n",
    "\n",
    "model_path = 'truevoice_data/'"
   ]
  },
  {
   "cell_type": "code",
   "execution_count": 2,
   "metadata": {},
   "outputs": [
    {
     "name": "stdout",
     "output_type": "stream",
     "text": [
      "(10998, 5) (1941, 5) (3236, 5)\n"
     ]
    }
   ],
   "source": [
    "from sklearn.model_selection import train_test_split\n",
    "all_df = pd.read_csv(f'mari_train.csv')\n",
    "all_df['destination'] = all_df.destination.map(lambda x: x.replace(' ','_'))\n",
    "train_df, valid_df = train_test_split(all_df, test_size=0.15, random_state=1412)\n",
    "train_df = train_df.reset_index(drop=True)\n",
    "valid_df = valid_df.reset_index(drop=True)\n",
    "test_df = pd.read_csv(f'mari_test.csv')\n",
    "test_df['destination'] = test_df.destination.map(lambda x: x.replace(' ','_'))\n",
    "print(train_df.shape, valid_df.shape, test_df.shape)\n",
    "all_df = pd.concat([all_df,test_df]).reset_index(drop=True)"
   ]
  },
  {
   "cell_type": "markdown",
   "metadata": {},
   "source": [
    "### Finetune Language Model"
   ]
  },
  {
   "cell_type": "code",
   "execution_count": 4,
   "metadata": {},
   "outputs": [],
   "source": [
    "# tt = Tokenizer(tok_func = ThaiTokenizer, lang = 'th', pre_rules = pre_rules_th, post_rules=post_rules_th)\n",
    "# processor = [TokenizeProcessor(tokenizer=tt, chunksize=10000, mark_fields=False),\n",
    "#             NumericalizeProcessor(vocab=None, max_vocab=60000, min_freq=3)]\n",
    "\n",
    "# data_lm = (TextList.from_df(all_df, model_path, cols=['texts'], processor=processor)\n",
    "#     .random_split_by_pct(valid_pct = 0.01, seed = 1412)\n",
    "#     .label_for_lm()\n",
    "#     .databunch(bs=64))\n",
    "# data_lm.sanity_check()\n",
    "# data_lm.save('truevoice_lm.pkl')"
   ]
  },
  {
   "cell_type": "code",
   "execution_count": 5,
   "metadata": {},
   "outputs": [
    {
     "data": {
      "text/plain": [
       "(16014, 161)"
      ]
     },
     "execution_count": 5,
     "metadata": {},
     "output_type": "execute_result"
    }
   ],
   "source": [
    "data_lm = load_data(model_path,'truevoice_lm.pkl')\n",
    "data_lm.sanity_check()\n",
    "len(data_lm.train_ds), len(data_lm.valid_ds)"
   ]
  },
  {
   "cell_type": "code",
   "execution_count": 6,
   "metadata": {},
   "outputs": [
    {
     "data": {
      "text/html": [
       "<table border=\"1\" class=\"dataframe\">\n",
       "  <thead>\n",
       "    <tr style=\"text-align: right;\">\n",
       "      <th>idx</th>\n",
       "      <th>text</th>\n",
       "    </tr>\n",
       "  </thead>\n",
       "  <tbody>\n",
       "    <tr>\n",
       "      <td>0</td>\n",
       "      <td>อินเตอร์เน็ต ไฟ   xxunk   ไม่มี สัญญาณ ครับ xxbos   เค้า บอก จะ ส่ง รหัส เน็ต มา ให้   แต่ ยัง ไม่ได้ ส่ง มา เลย ค่ะ xxbos   ไป ชำระ ค่าบริการ ช้า   เน็ต ตัด   แต่ พี่ ไป ชำระ ค่าบริการ แล้ว ค่ะ   แต่ ยัง ใช้ไม่ได้ ค่ะ xxbos   คู่สาย ใช้ไม่ได้   อินเตอร์เน็ต ก็ เลย ใช้ไม่ได้ ค่ะ xxbos</td>\n",
       "    </tr>\n",
       "    <tr>\n",
       "      <td>1</td>\n",
       "      <td>ละ   บาท เล่น ได้ ทั้งวัน หรือเปล่า xxbos   เติม   wifi   วัน   แต่ ตอนนี้ ยัง ใช้งาน ไม่ได้   ขึ้น   error xxbos   เติม   ท รู มัน นี่   รหัส ผิด   ครั้ง อ่ะ ครับ xxbos   เติม เงิน   บาท ทำไม เงิน ไม่ เข้า ค่ะ xxbos   เติม เงิน</td>\n",
       "    </tr>\n",
       "    <tr>\n",
       "      <td>2</td>\n",
       "      <td>จะ ดู โบนัส ไม่ ขึ้น ซัก ที ค่ะ xxbos   เบอร์ นี้   มี   โปรโมชั่น   ตัว   ใช่ มั้ย ค่ะ xxbos   เบอร์ นี้   รับ sms ไม่ได้ เลย ค่ะ xxbos   เบอร์ นี้   สอบถาม สถานะ ยกเลิก เบอร์ นี้ xxbos   เบอร์ นี้ เกิน ดิ ว ชำระ แล้ว   จะ ชำระ ได้ที่ เคา xxunk เต อร์</td>\n",
       "    </tr>\n",
       "    <tr>\n",
       "      <td>3</td>\n",
       "      <td>นี้ ค่ะ xxbos   เพิ่ง เปิด ใช้ ซิม   จะ สอบถาม รายละเอียด โปรโมชั่น   นิดนึง ครับ xxbos   เพิ่ง เปิด ใช้ บริการ เบอร์ นี้   หน้าจอ โทรศัพท์ ขึ้น เป็นตัว   r   สีแดง ตลอด   หมายถึง อะไร ค่ะ xxbos   เพิ่ง โดน ตัด แต่ จ่าย ไป แล้ว   อีก นาน ไหม กว่า จะ ต่อให้ xxbos   เพิ่ง ใช้ ท</td>\n",
       "    </tr>\n",
       "    <tr>\n",
       "      <td>4</td>\n",
       "      <td>เมื่อวาน ผม ซื้อ   แอร์ การ์ด   ท รู มูฟ   h   พร้อม ซิม   แต่ มัน เล่น   internet   ไม่ได้ น่ะ ครับ xxbos   เมื่อวาน ผม ยกเลิก การ โทร ออก   xxunk รับ เข้า อ่ะ   วันนี้ ลูก เจอ โทรศัพท์ จะ ให้ โทร เข้า   โทร ออก ให้ ปกติ ครับ xxbos   เมื่อวาน พี่ โทร</td>\n",
       "    </tr>\n",
       "  </tbody>\n",
       "</table>"
      ],
      "text/plain": [
       "<IPython.core.display.HTML object>"
      ]
     },
     "metadata": {},
     "output_type": "display_data"
    }
   ],
   "source": [
    "data_lm.show_batch(5)"
   ]
  },
  {
   "cell_type": "code",
   "execution_count": 7,
   "metadata": {},
   "outputs": [],
   "source": [
    "config = dict(emb_sz=400, n_hid=1550, n_layers=4, pad_token=1, qrnn=False, tie_weights=True, out_bias=True,\n",
    "             output_p=0.25, hidden_p=0.1, input_p=0.2, embed_p=0.02, weight_p=0.15)\n",
    "trn_args = dict(drop_mult=0.9, clip=0.12, alpha=2, beta=1)\n",
    "\n",
    "learn = language_model_learner(data_lm, AWD_LSTM, config=config, pretrained=False, **trn_args)\n",
    "\n",
    "#load pretrained models\n",
    "learn.load_pretrained(**_THWIKI_LSTM)"
   ]
  },
  {
   "cell_type": "code",
   "execution_count": 8,
   "metadata": {},
   "outputs": [
    {
     "data": {
      "text/html": [],
      "text/plain": [
       "<IPython.core.display.HTML object>"
      ]
     },
     "metadata": {},
     "output_type": "display_data"
    },
    {
     "name": "stdout",
     "output_type": "stream",
     "text": [
      "LR Finder is complete, type {learner_name}.recorder.plot() to see the graph.\n",
      "Min numerical gradient: 3.63E-03\n"
     ]
    },
    {
     "data": {
      "image/png": "[encoded data removed]",
      "text/plain": [
       "<Figure size 432x288 with 1 Axes>"
      ]
     },
     "metadata": {
      "needs_background": "light"
     },
     "output_type": "display_data"
    }
   ],
   "source": [
    "learn.lr_find()\n",
    "learn.recorder.plot()"
   ]
  },
  {
   "cell_type": "code",
   "execution_count": 9,
   "metadata": {},
   "outputs": [
    {
     "data": {
      "text/plain": [
       "1746"
      ]
     },
     "execution_count": 9,
     "metadata": {},
     "output_type": "execute_result"
    }
   ],
   "source": [
    "len(learn.data.vocab.itos)"
   ]
  },
  {
   "cell_type": "code",
   "execution_count": 10,
   "metadata": {},
   "outputs": [
    {
     "name": "stdout",
     "output_type": "stream",
     "text": [
      "training frozen\n"
     ]
    },
    {
     "data": {
      "text/html": [
       "Total time: 00:09 <p><table style='width:300px; margin-bottom:10px'>\n",
       "  <tr>\n",
       "    <th>epoch</th>\n",
       "    <th>train_loss</th>\n",
       "    <th>valid_loss</th>\n",
       "    <th>accuracy</th>\n",
       "  </tr>\n",
       "  <tr>\n",
       "    <th>1</th>\n",
       "    <th>6.035599</th>\n",
       "    <th>5.735363</th>\n",
       "    <th>0.208705</th>\n",
       "  </tr>\n",
       "</table>\n"
      ],
      "text/plain": [
       "<IPython.core.display.HTML object>"
      ]
     },
     "metadata": {},
     "output_type": "display_data"
    }
   ],
   "source": [
    "#train frozen\n",
    "print('training frozen')\n",
    "learn.freeze_to(-1)\n",
    "learn.fit_one_cycle(1, 1e-3, moms=(0.8, 0.7))"
   ]
  },
  {
   "cell_type": "code",
   "execution_count": 11,
   "metadata": {},
   "outputs": [
    {
     "name": "stdout",
     "output_type": "stream",
     "text": [
      "training unfrozen\n"
     ]
    },
    {
     "data": {
      "text/html": [
       "Total time: 02:09 <p><table style='width:300px; margin-bottom:10px'>\n",
       "  <tr>\n",
       "    <th>epoch</th>\n",
       "    <th>train_loss</th>\n",
       "    <th>valid_loss</th>\n",
       "    <th>accuracy</th>\n",
       "  </tr>\n",
       "  <tr>\n",
       "    <th>1</th>\n",
       "    <th>5.450301</th>\n",
       "    <th>4.920609</th>\n",
       "    <th>0.214732</th>\n",
       "  </tr>\n",
       "  <tr>\n",
       "    <th>2</th>\n",
       "    <th>4.819039</th>\n",
       "    <th>4.072633</th>\n",
       "    <th>0.283036</th>\n",
       "  </tr>\n",
       "  <tr>\n",
       "    <th>3</th>\n",
       "    <th>4.316055</th>\n",
       "    <th>3.738590</th>\n",
       "    <th>0.314955</th>\n",
       "  </tr>\n",
       "  <tr>\n",
       "    <th>4</th>\n",
       "    <th>4.000783</th>\n",
       "    <th>3.583597</th>\n",
       "    <th>0.335491</th>\n",
       "  </tr>\n",
       "  <tr>\n",
       "    <th>5</th>\n",
       "    <th>3.800292</th>\n",
       "    <th>3.494054</th>\n",
       "    <th>0.340402</th>\n",
       "  </tr>\n",
       "  <tr>\n",
       "    <th>6</th>\n",
       "    <th>3.683213</th>\n",
       "    <th>3.428665</th>\n",
       "    <th>0.343304</th>\n",
       "  </tr>\n",
       "  <tr>\n",
       "    <th>7</th>\n",
       "    <th>3.606024</th>\n",
       "    <th>3.394099</th>\n",
       "    <th>0.345536</th>\n",
       "  </tr>\n",
       "  <tr>\n",
       "    <th>8</th>\n",
       "    <th>3.557494</th>\n",
       "    <th>3.378539</th>\n",
       "    <th>0.347991</th>\n",
       "  </tr>\n",
       "  <tr>\n",
       "    <th>9</th>\n",
       "    <th>3.532558</th>\n",
       "    <th>3.374531</th>\n",
       "    <th>0.351786</th>\n",
       "  </tr>\n",
       "  <tr>\n",
       "    <th>10</th>\n",
       "    <th>3.518977</th>\n",
       "    <th>3.360912</th>\n",
       "    <th>0.348884</th>\n",
       "  </tr>\n",
       "</table>\n"
      ],
      "text/plain": [
       "<IPython.core.display.HTML object>"
      ]
     },
     "metadata": {},
     "output_type": "display_data"
    }
   ],
   "source": [
    "#train unfrozen\n",
    "print('training unfrozen')\n",
    "learn.unfreeze()\n",
    "learn.fit_one_cycle(10, 1e-4, moms=(0.8, 0.7))"
   ]
  },
  {
   "cell_type": "code",
   "execution_count": 13,
   "metadata": {},
   "outputs": [],
   "source": [
    "learn.save('truevoice_lm')\n",
    "learn.save_encoder('truevoice_enc')"
   ]
  },
  {
   "cell_type": "markdown",
   "metadata": {},
   "source": [
    "### Classification"
   ]
  },
  {
   "cell_type": "code",
   "execution_count": 54,
   "metadata": {},
   "outputs": [],
   "source": [
    "tt = Tokenizer(tok_func = ThaiTokenizer, lang = 'th', pre_rules = pre_rules_th, post_rules=post_rules_th)\n",
    "processor = [TokenizeProcessor(tokenizer=tt, chunksize=10000, mark_fields=False),\n",
    "            NumericalizeProcessor(vocab=data_lm.vocab, max_vocab=60000, min_freq=3)]\n",
    "\n",
    "train_df = pd.read_csv(f'mari_train.csv')\n",
    "train_df['destination'] = train_df.destination.map(lambda x: x.replace(' ','_'))\n",
    "\n",
    "data_cls = (TextList.from_df(train_df, model_path, cols=['texts'], processor=processor)\n",
    "    .random_split_by_pct(valid_pct = 0.05, seed = 1412)\n",
    "    .label_from_df('destination')\n",
    "    .add_test(TextList.from_df(test_df, model_path, cols=['texts'], processor=processor))\n",
    "    .databunch(bs=64)\n",
    "    )\n",
    "\n",
    "data_cls.sanity_check()\n",
    "data_cls.save('truevoice_cls.pkl')"
   ]
  },
  {
   "cell_type": "code",
   "execution_count": 55,
   "metadata": {},
   "outputs": [],
   "source": [
    "config = dict(emb_sz=400, n_hid=1550, n_layers=4, pad_token=1, qrnn=False,\n",
    "             output_p=0.25, hidden_p=0.1, input_p=0.2, embed_p=0.02, weight_p=0.15)\n",
    "trn_args = dict(bptt=70, drop_mult=0.5, alpha=2, beta=1)\n",
    "\n",
    "learn = text_classifier_learner(data_cls, AWD_LSTM, config=config, pretrained=False, **trn_args)\n",
    "learn.opt_func = partial(optim.Adam, betas=(0.7, 0.99))\n",
    "\n",
    "#load pretrained finetuned model\n",
    "learn.load_encoder('truevoice_enc')"
   ]
  },
  {
   "cell_type": "code",
   "execution_count": 20,
   "metadata": {},
   "outputs": [
    {
     "data": {
      "text/html": [],
      "text/plain": [
       "<IPython.core.display.HTML object>"
      ]
     },
     "metadata": {},
     "output_type": "display_data"
    },
    {
     "name": "stdout",
     "output_type": "stream",
     "text": [
      "LR Finder is complete, type {learner_name}.recorder.plot() to see the graph.\n",
      "Min numerical gradient: 3.31E-02\n"
     ]
    },
    {
     "data": {
      "image/png": "[encoded data removed]",
      "text/plain": [
       "<Figure size 432x288 with 1 Axes>"
      ]
     },
     "metadata": {
      "needs_background": "light"
     },
     "output_type": "display_data"
    }
   ],
   "source": [
    "learn.lr_find()\n",
    "learn.recorder.plot()"
   ]
  },
  {
   "cell_type": "code",
   "execution_count": 56,
   "metadata": {},
   "outputs": [
    {
     "data": {
      "text/html": [
       "Total time: 00:08 <p><table style='width:300px; margin-bottom:10px'>\n",
       "  <tr>\n",
       "    <th>epoch</th>\n",
       "    <th>train_loss</th>\n",
       "    <th>valid_loss</th>\n",
       "    <th>accuracy</th>\n",
       "  </tr>\n",
       "  <tr>\n",
       "    <th>1</th>\n",
       "    <th>0.820964</th>\n",
       "    <th>0.713525</th>\n",
       "    <th>0.743034</th>\n",
       "  </tr>\n",
       "</table>\n"
      ],
      "text/plain": [
       "<IPython.core.display.HTML object>"
      ]
     },
     "metadata": {},
     "output_type": "display_data"
    }
   ],
   "source": [
    "#train unfrozen\n",
    "learn.freeze_to(-1)\n",
    "learn.fit_one_cycle(1, 2e-2, moms=(0.8, 0.7))"
   ]
  },
  {
   "cell_type": "code",
   "execution_count": 57,
   "metadata": {},
   "outputs": [
    {
     "data": {
      "text/html": [
       "Total time: 00:09 <p><table style='width:300px; margin-bottom:10px'>\n",
       "  <tr>\n",
       "    <th>epoch</th>\n",
       "    <th>train_loss</th>\n",
       "    <th>valid_loss</th>\n",
       "    <th>accuracy</th>\n",
       "  </tr>\n",
       "  <tr>\n",
       "    <th>1</th>\n",
       "    <th>0.589606</th>\n",
       "    <th>0.514945</th>\n",
       "    <th>0.831269</th>\n",
       "  </tr>\n",
       "</table>\n"
      ],
      "text/plain": [
       "<IPython.core.display.HTML object>"
      ]
     },
     "metadata": {},
     "output_type": "display_data"
    },
    {
     "data": {
      "text/html": [
       "Total time: 00:13 <p><table style='width:300px; margin-bottom:10px'>\n",
       "  <tr>\n",
       "    <th>epoch</th>\n",
       "    <th>train_loss</th>\n",
       "    <th>valid_loss</th>\n",
       "    <th>accuracy</th>\n",
       "  </tr>\n",
       "  <tr>\n",
       "    <th>1</th>\n",
       "    <th>0.478064</th>\n",
       "    <th>0.432803</th>\n",
       "    <th>0.852941</th>\n",
       "  </tr>\n",
       "</table>\n"
      ],
      "text/plain": [
       "<IPython.core.display.HTML object>"
      ]
     },
     "metadata": {},
     "output_type": "display_data"
    },
    {
     "data": {
      "text/html": [
       "Total time: 01:04 <p><table style='width:300px; margin-bottom:10px'>\n",
       "  <tr>\n",
       "    <th>epoch</th>\n",
       "    <th>train_loss</th>\n",
       "    <th>valid_loss</th>\n",
       "    <th>accuracy</th>\n",
       "  </tr>\n",
       "  <tr>\n",
       "    <th>1</th>\n",
       "    <th>0.319146</th>\n",
       "    <th>0.410431</th>\n",
       "    <th>0.876161</th>\n",
       "  </tr>\n",
       "  <tr>\n",
       "    <th>2</th>\n",
       "    <th>0.255817</th>\n",
       "    <th>0.391574</th>\n",
       "    <th>0.885449</th>\n",
       "  </tr>\n",
       "  <tr>\n",
       "    <th>3</th>\n",
       "    <th>0.166867</th>\n",
       "    <th>0.406172</th>\n",
       "    <th>0.879257</th>\n",
       "  </tr>\n",
       "</table>\n"
      ],
      "text/plain": [
       "<IPython.core.display.HTML object>"
      ]
     },
     "metadata": {},
     "output_type": "display_data"
    },
    {
     "name": "stdout",
     "output_type": "stream",
     "text": [
      "Better model found at epoch 1 with accuracy value: 0.8761609792709351.\n",
      "Better model found at epoch 2 with accuracy value: 0.8854489326477051.\n"
     ]
    }
   ],
   "source": [
    "#gradual unfreezing\n",
    "learn.freeze_to(-2)\n",
    "learn.fit_one_cycle(1, slice(1e-2 / (2.6 ** 4), 1e-2), moms=(0.8, 0.7))\n",
    "learn.freeze_to(-3)\n",
    "learn.fit_one_cycle(1, slice(5e-3 / (2.6 ** 4), 5e-3), moms=(0.8, 0.7))\n",
    "learn.unfreeze()\n",
    "learn.fit_one_cycle(3, slice(1e-3 / (2.6 ** 4), 1e-3), moms=(0.8, 0.7), \n",
    "                   callbacks=[SaveModelCallback(learn, every='improvement', monitor='accuracy', name='truevoice_cls')])"
   ]
  },
  {
   "cell_type": "code",
   "execution_count": 58,
   "metadata": {},
   "outputs": [],
   "source": [
    "probs, y_true = learn.get_preds(ds_type = DatasetType.Test, ordered=True)\n",
    "classes = learn.data.train_ds.classes\n",
    "y_true = np.array([classes[i] for i in y_true.numpy()])\n",
    "preds = np.array([classes[i] for i in probs.argmax(1).numpy()])\n",
    "prob = probs.numpy()"
   ]
  },
  {
   "cell_type": "code",
   "execution_count": 59,
   "metadata": {},
   "outputs": [],
   "source": [
    "from sklearn.metrics import f1_score, precision_score, recall_score\n",
    "from sklearn.preprocessing import OneHotEncoder\n",
    "enc = OneHotEncoder(handle_unknown='ignore')\n",
    "\n",
    "enc_fit = enc.fit(test_df[y][:,None])\n",
    "pred_ohe = enc_fit.transform(preds[:,None]).toarray()\n",
    "y_ohe = enc_fit.transform(test_df[y][:,None]).toarray()"
   ]
  },
  {
   "cell_type": "code",
   "execution_count": 60,
   "metadata": {},
   "outputs": [
    {
     "name": "stdout",
     "output_type": "stream",
     "text": [
      "0.9313967861557478 0.8852119958634953 0.8761514841351075 0.8944618599791013\n",
      "0.9585908529048207 0.7276422764227642 0.8817733990147784 0.6193771626297578\n",
      "0.9400494437577256 0.8450479233226836 0.8601626016260162 0.8304552590266876\n",
      "0.9898022249690976 0.9185185185185185 0.9489795918367347 0.8899521531100478\n",
      "0.9057478368355995 0.6765641569459173 0.581056466302368 0.8096446700507615\n",
      "0.9465389369592089 0.8603712671509282 0.9033898305084745 0.8212634822804314\n"
     ]
    }
   ],
   "source": [
    "import warnings\n",
    "warnings.filterwarnings(\"ignore\")\n",
    "#macro metrics\n",
    "for i in range(nb_class):\n",
    "    print(\n",
    "        (pred_ohe[:,i]==y_ohe[:,i]).mean(),\n",
    "        f1_score(pred_ohe[:,i],y_ohe[:,i]),\n",
    "        precision_score(pred_ohe[:,i],y_ohe[:,i]),\n",
    "        recall_score(pred_ohe[:,i],y_ohe[:,i])\n",
    "         )"
   ]
  },
  {
   "cell_type": "code",
   "execution_count": 65,
   "metadata": {},
   "outputs": [
    {
     "name": "stdout",
     "output_type": "stream",
     "text": [
      "micro metrics\n"
     ]
    },
    {
     "data": {
      "text/plain": [
       "(0.8349814585908529,\n",
       " 0.8349814585908529,\n",
       " 0.8349814585908529,\n",
       " 0.8349814585908529)"
      ]
     },
     "execution_count": 65,
     "metadata": {},
     "output_type": "execute_result"
    }
   ],
   "source": [
    "print('micro metrics')\n",
    "(preds==test_df[y]).mean(), \\\n",
    "f1_score(test_df[y],preds,average='micro'), \\\n",
    "precision_score(test_df[y],preds,average='micro'), \\\n",
    "recall_score(test_df[y],preds,average='micro')"
   ]
  },
  {
   "cell_type": "code",
   "execution_count": null,
   "metadata": {},
   "outputs": [],
   "source": []
  }
 ],
 "metadata": {
  "kernelspec": {
   "display_name": "Python 3",
   "language": "python",
   "name": "python3"
  },
  "language_info": {
   "codemirror_mode": {
    "name": "ipython",
    "version": 3
   },
   "file_extension": ".py",
   "mimetype": "text/x-python",
   "name": "python",
   "nbconvert_exporter": "python",
   "pygments_lexer": "ipython3",
   "version": "3.7.3"
  }
 },
 "nbformat": 4,
 "nbformat_minor": 2
}
