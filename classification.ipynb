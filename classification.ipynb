{
  "nbformat": 4,
  "nbformat_minor": 0,
  "metadata": {
    "kernelspec": {
      "display_name": "Python 3",
      "language": "python",
      "name": "python3"
    },
    "language_info": {
      "codemirror_mode": {
        "name": "ipython",
        "version": 3
      },
      "file_extension": ".py",
      "mimetype": "text/x-python",
      "name": "python",
      "nbconvert_exporter": "python",
      "pygments_lexer": "ipython3",
      "version": "3.7.3"
    },
    "colab": {
      "name": "classification.ipynb",
      "provenance": []
    },
    "accelerator": "GPU"
  },
  "cells": [
    {
      "cell_type": "markdown",
      "metadata": {
        "id": "L8_8DLAZF8lX",
        "colab_type": "text"
      },
      "source": [
        "# `true-intent` Destination Classification"
      ]
    },
    {
      "cell_type": "markdown",
      "metadata": {
        "id": "o2EzG6v0F8lY",
        "colab_type": "text"
      },
      "source": [
        "We provide 3 benchmarks for the 7-class multi-class classification of `destination` column in `truevoice-intnet` dataset: LinearSVC and [ULMFit](https://github.com/cstorm125/thai2fit). In the transfer learning cases, we first finetune the embeddings using all data. The test set contains 20% of all data split by [TrueVoice](http://www.truevoice.co.th/). The rest is split into 85/15 train-validation split randomly. Performance metrics are micro-averaged and macro-averaged accuracy and F1 score."
      ]
    },
    {
      "cell_type": "markdown",
      "metadata": {
        "id": "Dolt1Yz3F8lZ",
        "colab_type": "text"
      },
      "source": [
        "| model     | macro-accuracy | micro-accuracy | macro-F1       | micro-F1   |\n",
        "|-----------|----------------|----------------|----------------|------------|\n",
        "| **LinearSVC** | **0.957806**       | **0.95747712**     |       **0.869411** | **0.85116993** |\n",
        "| ULMFit    | 0.955066       | 0.84273111     | 0.852149       | 0.84273111 |\n",
        "| USE    | 0.943559       | 0.94355855    | 0.787686       | 0.802455 |"
      ]
    },
    {
      "cell_type": "code",
      "metadata": {
        "id": "zSEwnxXZGCZ1",
        "colab_type": "code",
        "outputId": "fd183ea1-96e2-4dda-c99a-638c80a8b657",
        "colab": {
          "base_uri": "https://localhost:8080/",
          "height": 102
        }
      },
      "source": [
        "# #colab\n",
        "# !wget https://github.com/PyThaiNLP/truevoice-intent/archive/master.zip; unzip master.zip; cd truevoice-intent-master; unzip mari-intent.zip; cp *.* ../;\n",
        "# !mkdir ft_data\n",
        "# !mkdir truevoice_data\n",
        "# !pip install https://github.com/PyThaiNLP/pythainlp/archive/dev.zip\n",
        "# !pip install emoji\n",
        "# !pip install tensorflow_text\n",
        "!ls"
      ],
      "execution_count": 0,
      "outputs": [
        {
          "output_type": "stream",
          "text": [
            "class_features.py     mari-test-balanced.csv   sample_data\n",
            "classification.ipynb  mari-train-balanced.csv  thsarabunnew-webfont.ttf\n",
            "exploration.ipynb     master.zip\t       truevoice_data\n",
            "ft_data\t\t      README.md\t\t       truevoice-intent-master\n",
            "mari-intent.zip       remove-dup-split.ipynb\n"
          ],
          "name": "stdout"
        }
      ]
    },
    {
      "cell_type": "code",
      "metadata": {
        "id": "68iunUNqF8la",
        "colab_type": "code",
        "colab": {}
      },
      "source": [
        "import pandas as pd\n",
        "import numpy as np\n",
        "from pythainlp import word_tokenize\n",
        "from tqdm import tqdm_notebook\n",
        "from collections import Counter\n",
        "import re\n",
        "from sklearn.metrics import f1_score,precision_score,recall_score\n",
        "\n",
        "#viz\n",
        "from plotnine import *\n",
        "import matplotlib.pyplot as plt\n",
        "import seaborn as sns\n",
        "\n",
        "def replace_newline(t):\n",
        "    return re.sub('[\\n]{1,}', ' ', t)\n",
        "\n",
        "ft_data = 'ft_data/'\n",
        "\n",
        "y = 'destination'\n",
        "nb_class = 7"
      ],
      "execution_count": 0,
      "outputs": []
    },
    {
      "cell_type": "code",
      "metadata": {
        "id": "7g_gwYvrF8le",
        "colab_type": "code",
        "colab": {}
      },
      "source": [
        "import string\n",
        "import emoji\n",
        "def replace_url(text):\n",
        "    URL_PATTERN = r\"\"\"(?i)\\b((?:https?:(?:/{1,3}|[a-z0-9%])|[a-z0-9.\\-]+[.](?:com|net|org|edu|gov|mil|aero|asia|biz|cat|coop|info|int|jobs|mobi|museum|name|post|pro|tel|travel|xxx|ac|ad|ae|af|ag|ai|al|am|an|ao|aq|ar|as|at|au|aw|ax|az|ba|bb|bd|be|bf|bg|bh|bi|bj|bm|bn|bo|br|bs|bt|bv|bw|by|bz|ca|cc|cd|cf|cg|ch|ci|ck|cl|cm|cn|co|cr|cs|cu|cv|cx|cy|cz|dd|de|dj|dk|dm|do|dz|ec|ee|eg|eh|er|es|et|eu|fi|fj|fk|fm|fo|fr|ga|gb|gd|ge|gf|gg|gh|gi|gl|gm|gn|gp|gq|gr|gs|gt|gu|gw|gy|hk|hm|hn|hr|ht|hu|id|ie|il|im|in|io|iq|ir|is|it|je|jm|jo|jp|ke|kg|kh|ki|km|kn|kp|kr|kw|ky|kz|la|lb|lc|li|lk|lr|ls|lt|lu|lv|ly|ma|mc|md|me|mg|mh|mk|ml|mm|mn|mo|mp|mq|mr|ms|mt|mu|mv|mw|mx|my|mz|na|nc|ne|nf|ng|ni|nl|no|np|nr|nu|nz|om|pa|pe|pf|pg|ph|pk|pl|pm|pn|pr|ps|pt|pw|py|qa|re|ro|rs|ru|rw|sa|sb|sc|sd|se|sg|sh|si|sj|Ja|sk|sl|sm|sn|so|sr|ss|st|su|sv|sx|sy|sz|tc|td|tf|tg|th|tj|tk|tl|tm|tn|to|tp|tr|tt|tv|tw|tz|ua|ug|uk|us|uy|uz|va|vc|ve|vg|vi|vn|vu|wf|ws|ye|yt|yu|za|zm|zw)/)(?:[^\\s()<>{}\\[\\]]+|\\([^\\s()]*?\\([^\\s()]+\\)[^\\s()]*?\\)|\\([^\\s]+?\\))+(?:\\([^\\s()]*?\\([^\\s()]+\\)[^\\s()]*?\\)|\\([^\\s]+?\\)|[^\\s`!()\\[\\]{};:'\".,<>?«»“”‘’])|(?:(?<!@)[a-z0-9]+(?:[.\\-][a-z0-9]+)*[.](?:com|net|org|edu|gov|mil|aero|asia|biz|cat|coop|info|int|jobs|mobi|museum|name|post|pro|tel|travel|xxx|ac|ad|ae|af|ag|ai|al|am|an|ao|aq|ar|as|at|au|aw|ax|az|ba|bb|bd|be|bf|bg|bh|bi|bj|bm|bn|bo|br|bs|bt|bv|bw|by|bz|ca|cc|cd|cf|cg|ch|ci|ck|cl|cm|cn|co|cr|cs|cu|cv|cx|cy|cz|dd|de|dj|dk|dm|do|dz|ec|ee|eg|eh|er|es|et|eu|fi|fj|fk|fm|fo|fr|ga|gb|gd|ge|gf|gg|gh|gi|gl|gm|gn|gp|gq|gr|gs|gt|gu|gw|gy|hk|hm|hn|hr|ht|hu|id|ie|il|im|in|io|iq|ir|is|it|je|jm|jo|jp|ke|kg|kh|ki|km|kn|kp|kr|kw|ky|kz|la|lb|lc|li|lk|lr|ls|lt|lu|lv|ly|ma|mc|md|me|mg|mh|mk|ml|mm|mn|mo|mp|mq|mr|ms|mt|mu|mv|mw|mx|my|mz|na|nc|ne|nf|ng|ni|nl|no|np|nr|nu|nz|om|pa|pe|pf|pg|ph|pk|pl|pm|pn|pr|ps|pt|pw|py|qa|re|ro|rs|ru|rw|sa|sb|sc|sd|se|sg|sh|si|sj|Ja|sk|sl|sm|sn|so|sr|ss|st|su|sv|sx|sy|sz|tc|td|tf|tg|th|tj|tk|tl|tm|tn|to|tp|tr|tt|tv|tw|tz|ua|ug|uk|us|uy|uz|va|vc|ve|vg|vi|vn|vu|wf|ws|ye|yt|yu|za|zm|zw)\\b/?(?!@)))\"\"\"\n",
        "    return re.sub(URL_PATTERN, 'xxurl', text)\n",
        "\n",
        "def replace_rep(text):\n",
        "    def _replace_rep(m):\n",
        "        c,cc = m.groups()\n",
        "        return f'{c}xxrep'\n",
        "    re_rep = re.compile(r'(\\S)(\\1{2,})')\n",
        "    return re_rep.sub(_replace_rep, text)\n",
        "\n",
        "def ungroup_emoji(toks):\n",
        "    res = []\n",
        "    for tok in toks:\n",
        "        if emoji.emoji_count(tok) == len(tok):\n",
        "            for char in tok:\n",
        "                res.append(char)\n",
        "        else:\n",
        "            res.append(tok)\n",
        "    return res\n",
        "\n",
        "def process_text(text):\n",
        "    #pre rules\n",
        "    res = text.lower().strip()\n",
        "    res = replace_url(res)\n",
        "    res = replace_rep(res)\n",
        "    \n",
        "    #tokenize\n",
        "    res = [word for word in res.split('|') if word and not re.search(pattern=r\"\\s+\", string=word)]\n",
        "    \n",
        "    #post rules\n",
        "    res = ungroup_emoji(res)\n",
        "    \n",
        "    return res"
      ],
      "execution_count": 0,
      "outputs": []
    },
    {
      "cell_type": "markdown",
      "metadata": {
        "id": "9h13pxFJF8li",
        "colab_type": "text"
      },
      "source": [
        "## Train-validation-test Split"
      ]
    },
    {
      "cell_type": "markdown",
      "metadata": {
        "id": "tnCT9R0_F8lj",
        "colab_type": "text"
      },
      "source": [
        "We perform 85/15 train-validation split in addition to the test split by [TrueVoice](http://www.truevoice.co.th/)."
      ]
    },
    {
      "cell_type": "code",
      "metadata": {
        "id": "n7DdIBc6F8lj",
        "colab_type": "code",
        "outputId": "7ffb7ff0-531a-4a41-d5fb-31bf9f1b337f",
        "colab": {
          "base_uri": "https://localhost:8080/",
          "height": 34
        }
      },
      "source": [
        "from sklearn.model_selection import train_test_split\n",
        "all_df = pd.read_csv(f'mari-train-balanced.csv')\n",
        "all_df['destination'] = all_df.destination.map(lambda x: x.replace(' ','_'))\n",
        "train_df, valid_df = train_test_split(all_df, test_size=0.15, random_state=1412)\n",
        "train_df = train_df.reset_index(drop=True)\n",
        "valid_df = valid_df.reset_index(drop=True)\n",
        "test_df = pd.read_csv(f'mari-test-balanced.csv')\n",
        "test_df['destination'] = test_df.destination.map(lambda x: x.replace(' ','_'))\n",
        "print(train_df.shape, valid_df.shape, test_df.shape)"
      ],
      "execution_count": 0,
      "outputs": [
        {
          "output_type": "stream",
          "text": [
            "(8757, 5) (1546, 5) (2607, 5)\n"
          ],
          "name": "stdout"
        }
      ]
    },
    {
      "cell_type": "code",
      "metadata": {
        "id": "NFqt5Y0aF8ln",
        "colab_type": "code",
        "outputId": "96c67625-778a-4384-b65a-473606754d26",
        "colab": {
          "base_uri": "https://localhost:8080/",
          "height": 153
        }
      },
      "source": [
        "#test set prevalence\n",
        "test_df['destination'].value_counts() / test_df.shape[0]"
      ],
      "execution_count": 0,
      "outputs": [
        {
          "output_type": "execute_result",
          "data": {
            "text/plain": [
              "billing_and_payment      0.376678\n",
              "promotions               0.220560\n",
              "other_queries            0.176064\n",
              "internet                 0.154200\n",
              "international_dialing    0.034522\n",
              "true_money               0.019946\n",
              "lost_and_stolen          0.018028\n",
              "Name: destination, dtype: float64"
            ]
          },
          "metadata": {
            "tags": []
          },
          "execution_count": 7
        }
      ]
    },
    {
      "cell_type": "markdown",
      "metadata": {
        "id": "fHeBSl8GF8mG",
        "colab_type": "text"
      },
      "source": [
        "## LinearSVC Model"
      ]
    },
    {
      "cell_type": "markdown",
      "metadata": {
        "id": "q24PO4LLF8mH",
        "colab_type": "text"
      },
      "source": [
        "Code for LinearSVC is provided by [@lukkiddd](https://github.com/lukkiddd)."
      ]
    },
    {
      "cell_type": "code",
      "metadata": {
        "id": "lqxBUKbTF8mI",
        "colab_type": "code",
        "colab": {}
      },
      "source": [
        "X_train, y_train = train_df['texts'], train_df[y]\n",
        "X_test, y_test = test_df['texts'], test_df[y]"
      ],
      "execution_count": 0,
      "outputs": []
    },
    {
      "cell_type": "code",
      "metadata": {
        "id": "q7o8ORiEF8mK",
        "colab_type": "code",
        "outputId": "4199f9e1-8c79-4830-d267-912a9bb40a19",
        "colab": {
          "base_uri": "https://localhost:8080/",
          "height": 374
        }
      },
      "source": [
        "from sklearn.pipeline import Pipeline\n",
        "from sklearn.feature_extraction.text import TfidfVectorizer\n",
        "from sklearn.svm import LinearSVC\n",
        "\n",
        "text_clf = Pipeline([\n",
        "    ('tfidf', TfidfVectorizer(tokenizer=word_tokenize, ngram_range=(1,2))),\n",
        "    ('clf', LinearSVC(class_weight='balanced')),\n",
        "])\n",
        "\n",
        "text_clf.fit(X_train, y_train)"
      ],
      "execution_count": 0,
      "outputs": [
        {
          "output_type": "execute_result",
          "data": {
            "text/plain": [
              "Pipeline(memory=None,\n",
              "         steps=[('tfidf',\n",
              "                 TfidfVectorizer(analyzer='word', binary=False,\n",
              "                                 decode_error='strict',\n",
              "                                 dtype=<class 'numpy.float64'>,\n",
              "                                 encoding='utf-8', input='content',\n",
              "                                 lowercase=True, max_df=1.0, max_features=None,\n",
              "                                 min_df=1, ngram_range=(1, 2), norm='l2',\n",
              "                                 preprocessor=None, smooth_idf=True,\n",
              "                                 stop_words=None, strip_accents=None,\n",
              "                                 sublinear_tf=False,\n",
              "                                 token_pattern='(?u)\\\\b\\\\w\\\\w+\\\\b',\n",
              "                                 tokenizer=<function word_tokenize at 0x7fc57387b0d0>,\n",
              "                                 use_idf=True, vocabulary=None)),\n",
              "                ('clf',\n",
              "                 LinearSVC(C=1.0, class_weight='balanced', dual=True,\n",
              "                           fit_intercept=True, intercept_scaling=1,\n",
              "                           loss='squared_hinge', max_iter=1000,\n",
              "                           multi_class='ovr', penalty='l2', random_state=None,\n",
              "                           tol=0.0001, verbose=0))],\n",
              "         verbose=False)"
            ]
          },
          "metadata": {
            "tags": []
          },
          "execution_count": 49
        }
      ]
    },
    {
      "cell_type": "code",
      "metadata": {
        "id": "mZAa7ri7F8mS",
        "colab_type": "code",
        "outputId": "f7dfa86e-7f97-4912-9703-7e4386e0b4d2",
        "colab": {
          "base_uri": "https://localhost:8080/",
          "height": 34
        }
      },
      "source": [
        "pred = text_clf.predict(X_test)\n",
        "(pred==y_test).mean()"
      ],
      "execution_count": 0,
      "outputs": [
        {
          "output_type": "execute_result",
          "data": {
            "text/plain": [
              "0.8523206751054853"
            ]
          },
          "metadata": {
            "tags": []
          },
          "execution_count": 50
        }
      ]
    },
    {
      "cell_type": "code",
      "metadata": {
        "id": "48YkprbjF8mW",
        "colab_type": "code",
        "colab": {}
      },
      "source": [
        "from sklearn.preprocessing import OneHotEncoder\n",
        "enc = OneHotEncoder(handle_unknown='ignore')\n",
        "pred_lab = text_clf.predict(X_test)\n",
        "\n",
        "enc_fit = enc.fit(test_df[y][:,None])\n",
        "pred_ohe = enc_fit.transform(pred_lab[:,None]).toarray()\n",
        "y_ohe = enc_fit.transform(test_df[y][:,None]).toarray()"
      ],
      "execution_count": 0,
      "outputs": []
    },
    {
      "cell_type": "code",
      "metadata": {
        "id": "lxUIRIUgF8ma",
        "colab_type": "code",
        "outputId": "1052f834-4180-4c8b-eed6-842c940ccea3",
        "colab": {
          "base_uri": "https://localhost:8080/",
          "height": 136
        }
      },
      "source": [
        "import warnings\n",
        "warnings.filterwarnings(\"ignore\")\n",
        "\n",
        "ds = []\n",
        "\n",
        "#macro metrics\n",
        "for i in range(nb_class):\n",
        "    ds.append({'acc':(pred_ohe[:,i]==y_ohe[:,i]).mean(),\n",
        "               'f1':f1_score(pred_ohe[:,i],y_ohe[:,i]),\n",
        "               'precision':precision_score(pred_ohe[:,i],y_ohe[:,i]),\n",
        "               'recall':recall_score(pred_ohe[:,i],y_ohe[:,i])})\n",
        "    print(\n",
        "        (pred_ohe[:,i]==y_ohe[:,i]).mean(),\n",
        "        f1_score(pred_ohe[:,i],y_ohe[:,i]),\n",
        "        precision_score(pred_ohe[:,i],y_ohe[:,i]),\n",
        "        recall_score(pred_ohe[:,i],y_ohe[:,i])\n",
        "         )"
      ],
      "execution_count": 0,
      "outputs": [
        {
          "output_type": "stream",
          "text": [
            "0.9182968929804373 0.890036138358286 0.8778004073319755 0.9026178010471204\n",
            "0.9934790947449176 0.9050279329608939 0.9 0.9101123595505618\n",
            "0.9278864595320292 0.7745803357314148 0.8034825870646766 0.7476851851851852\n",
            "0.9969313387034906 0.9166666666666666 0.9361702127659575 0.8979591836734694\n",
            "0.935174530111239 0.8086070215175537 0.7777777777777778 0.8419811320754716\n",
            "0.9355581127733027 0.8576271186440678 0.88 0.8363636363636363\n",
            "0.9973149213655543 0.9333333333333333 0.9423076923076923 0.9245283018867925\n"
          ],
          "name": "stdout"
        }
      ]
    },
    {
      "cell_type": "code",
      "metadata": {
        "id": "Q3i7p8X_NFUz",
        "colab_type": "code",
        "outputId": "692f6257-ac40-4043-837d-d2ce35013516",
        "colab": {
          "base_uri": "https://localhost:8080/",
          "height": 102
        }
      },
      "source": [
        "pd.DataFrame(ds).mean()"
      ],
      "execution_count": 0,
      "outputs": [
        {
          "output_type": "execute_result",
          "data": {
            "text/plain": [
              "acc          0.957806\n",
              "f1           0.869411\n",
              "precision    0.873934\n",
              "recall       0.865893\n",
              "dtype: float64"
            ]
          },
          "metadata": {
            "tags": []
          },
          "execution_count": 53
        }
      ]
    },
    {
      "cell_type": "code",
      "metadata": {
        "id": "e3InZaR5F8me",
        "colab_type": "code",
        "outputId": "2eec2451-1657-4615-c605-e41f6cf2f1fb",
        "colab": {
          "base_uri": "https://localhost:8080/",
          "height": 102
        }
      },
      "source": [
        "print('micro metrics')\n",
        "(pred_ohe==y_ohe).mean(), \\\n",
        "f1_score(y_ohe,pred_ohe,average='micro'), \\\n",
        "precision_score(y_ohe,pred_ohe,average='micro'), \\\n",
        "recall_score(y_ohe,pred_ohe,average='micro')"
      ],
      "execution_count": 0,
      "outputs": [
        {
          "output_type": "stream",
          "text": [
            "micro metrics\n"
          ],
          "name": "stdout"
        },
        {
          "output_type": "execute_result",
          "data": {
            "text/plain": [
              "(0.9574771220340841,\n",
              " 0.8511699271192942,\n",
              " 0.8511699271192942,\n",
              " 0.8511699271192942)"
            ]
          },
          "metadata": {
            "tags": []
          },
          "execution_count": 14
        }
      ]
    },
    {
      "cell_type": "markdown",
      "metadata": {
        "id": "Gw64mzBZF8mh",
        "colab_type": "text"
      },
      "source": [
        "## [ULMFit](https://github.com/cstorm125/thai2fit) Model"
      ]
    },
    {
      "cell_type": "code",
      "metadata": {
        "id": "_hSVx3YgF8mh",
        "colab_type": "code",
        "outputId": "4d2c168d-fa95-4232-f9c2-b107b4a516ea",
        "colab": {
          "base_uri": "https://localhost:8080/",
          "height": 119
        }
      },
      "source": [
        "import pandas as pd\n",
        "import numpy as np\n",
        "from ast import literal_eval\n",
        "from tqdm import tqdm_notebook\n",
        "from collections import Counter\n",
        "import re\n",
        "\n",
        "#viz\n",
        "import matplotlib.pyplot as plt\n",
        "import seaborn as sns\n",
        "\n",
        "from fastai.text import *\n",
        "from fastai.callbacks import CSVLogger, SaveModelCallback\n",
        "\n",
        "from pythainlp.ulmfit import *\n",
        "\n",
        "model_path = 'truevoice_data/'"
      ],
      "execution_count": 0,
      "outputs": [
        {
          "output_type": "stream",
          "text": [
            "Corpus: wiki_lm_lstm\n",
            "- Downloading: wiki_lm_lstm 0.32\n"
          ],
          "name": "stdout"
        },
        {
          "output_type": "stream",
          "text": [
            "100%|██████████| 1050919089/1050919089 [00:47<00:00, 21901908.08it/s]\n"
          ],
          "name": "stderr"
        },
        {
          "output_type": "stream",
          "text": [
            "Corpus: wiki_itos_lstm\n",
            "- Downloading: wiki_itos_lstm 0.32\n"
          ],
          "name": "stdout"
        },
        {
          "output_type": "stream",
          "text": [
            "100%|██████████| 1530484/1530484 [00:00<00:00, 23321338.99it/s]\n"
          ],
          "name": "stderr"
        }
      ]
    },
    {
      "cell_type": "code",
      "metadata": {
        "id": "3UchHCm8F8mk",
        "colab_type": "code",
        "outputId": "f79ca006-288f-4057-95eb-2056f958b4b8",
        "colab": {
          "base_uri": "https://localhost:8080/",
          "height": 34
        }
      },
      "source": [
        "from sklearn.model_selection import train_test_split\n",
        "all_df = pd.read_csv(f'mari-train-balanced.csv')\n",
        "all_df['destination'] = all_df.destination.map(lambda x: x.replace(' ','_'))\n",
        "train_df, valid_df = train_test_split(all_df, test_size=0.15, random_state=1412)\n",
        "train_df = train_df.reset_index(drop=True)\n",
        "valid_df = valid_df.reset_index(drop=True)\n",
        "test_df = pd.read_csv(f'mari-test-balanced.csv')\n",
        "test_df['destination'] = test_df.destination.map(lambda x: x.replace(' ','_'))\n",
        "print(train_df.shape, valid_df.shape, test_df.shape)\n",
        "all_df = pd.concat([all_df,test_df]).reset_index(drop=True)"
      ],
      "execution_count": 0,
      "outputs": [
        {
          "output_type": "stream",
          "text": [
            "(8757, 5) (1546, 5) (2607, 5)\n"
          ],
          "name": "stdout"
        }
      ]
    },
    {
      "cell_type": "markdown",
      "metadata": {
        "id": "yk6omKSmF8mn",
        "colab_type": "text"
      },
      "source": [
        "### Finetune Language Model"
      ]
    },
    {
      "cell_type": "code",
      "metadata": {
        "id": "0Kgklmk3F8mn",
        "colab_type": "code",
        "outputId": "bc497b8d-fc7f-4d2c-a924-9e09c7759647",
        "colab": {
          "base_uri": "https://localhost:8080/",
          "height": 17
        }
      },
      "source": [
        "# tt = Tokenizer(tok_func = ThaiTokenizer, lang = 'th', pre_rules = pre_rules_th, post_rules=post_rules_th)\n",
        "# processor = [TokenizeProcessor(tokenizer=tt, chunksize=10000, mark_fields=False),\n",
        "#             NumericalizeProcessor(vocab=None, max_vocab=60000, min_freq=3)]\n",
        "\n",
        "# data_lm = (TextList.from_df(all_df, model_path, cols=['texts'], processor=processor)\n",
        "#     .random_split_by_pct(valid_pct = 0.01, seed = 1412)\n",
        "#     .label_for_lm()\n",
        "#     .databunch(bs=64))\n",
        "# data_lm.sanity_check()\n",
        "# data_lm.save('truevoice_lm.pkl')"
      ],
      "execution_count": 0,
      "outputs": [
        {
          "output_type": "display_data",
          "data": {
            "text/html": [
              ""
            ],
            "text/plain": [
              "<IPython.core.display.HTML object>"
            ]
          },
          "metadata": {
            "tags": []
          }
        },
        {
          "output_type": "display_data",
          "data": {
            "text/html": [
              ""
            ],
            "text/plain": [
              "<IPython.core.display.HTML object>"
            ]
          },
          "metadata": {
            "tags": []
          }
        }
      ]
    },
    {
      "cell_type": "code",
      "metadata": {
        "id": "tsD06QulF8mq",
        "colab_type": "code",
        "outputId": "a13a0bef-4e4d-463d-8f31-50077e1fb25d",
        "colab": {
          "base_uri": "https://localhost:8080/",
          "height": 34
        }
      },
      "source": [
        "data_lm = load_data(model_path,'truevoice_lm.pkl')\n",
        "data_lm.sanity_check()\n",
        "len(data_lm.train_ds), len(data_lm.valid_ds)"
      ],
      "execution_count": 0,
      "outputs": [
        {
          "output_type": "execute_result",
          "data": {
            "text/plain": [
              "(12781, 129)"
            ]
          },
          "metadata": {
            "tags": []
          },
          "execution_count": 21
        }
      ]
    },
    {
      "cell_type": "code",
      "metadata": {
        "id": "euzRZvyEF8mt",
        "colab_type": "code",
        "outputId": "0937c324-6032-4679-ec85-9d785778a2c1",
        "colab": {
          "base_uri": "https://localhost:8080/",
          "height": 221
        }
      },
      "source": [
        "data_lm.show_batch(5)"
      ],
      "execution_count": 0,
      "outputs": [
        {
          "output_type": "display_data",
          "data": {
            "text/html": [
              "<table border=\"1\" class=\"dataframe\">\n",
              "  <thead>\n",
              "    <tr style=\"text-align: right;\">\n",
              "      <th>idx</th>\n",
              "      <th>text</th>\n",
              "    </tr>\n",
              "  </thead>\n",
              "  <tbody>\n",
              "    <tr>\n",
              "      <td>0</td>\n",
              "      <td>อยาก ทราบ ว่า ยอด ที่ ชำระ เหลือ เท่าไหร่ คะ   ยอด ที่ ค้างชำระ ค่ะ xxbos   สมัคร อินเตอร์เน็ต xxunk เท่าไหร่ บ้าง ค่ะ xxbos   ครับ   คือ ผม จะ เรียน สอบถาม ครับ   เกี่ยวกับ อินเตอร์เน็ต ครับ   ของ ผม มัน ได้   gb   ครับ   อยาก สอบถาม ของ ผม ใช้ ไป เท่าไร แล้ว ครับ xxbos   สอบถาม</td>\n",
              "    </tr>\n",
              "    <tr>\n",
              "      <td>1</td>\n",
              "      <td>ให้ เปิด สัญญาณ หน่อย ค่ะ xxbos   คะ   จะ เช็ค ยอด ใช้งาน อินเตอร์เนต คะ xxbos   ไม่มี สัญญาณ   เอ จ   /   จี พีอาร์ เอส   /   สาม จี   เลย xxbos   ขอ เปิด สัญญาณ ก่อน xxbos   ว่า จะ ถาม โปร จะ สมัคร โปร xxunk แอ พ มี หรือไม่ ค่ะ xxbos</td>\n",
              "    </tr>\n",
              "    <tr>\n",
              "      <td>2</td>\n",
              "      <td>ใช้ บริการ ไม่ได้ ครับ xxbos   พี่ จะ เปิด   โรม มิ่ง   ไป มาเลเซีย ค่ะ xxbos   สวัสดี คะ   พี่ จะ สอบถาม ใบแจ้งหนี้ ปัจจุบัน   ว่า ยอด พี่ xxunk ค้าง อยู่ เท่า ไห ร   พี่ xxunk ว่า ไป จ่าย บ้าง หรือยัง xxbos   จะ ยกเลิก   xxunk   ค่ะ xxbos   ต้องการ   xxunk</td>\n",
              "    </tr>\n",
              "    <tr>\n",
              "      <td>3</td>\n",
              "      <td>สอบถาม เรื่อง การระงับ โทร ออก อ่ะ พี่ xxbos   หมายเลข นี้ มัน ตัด เน๊ต หรือ มัน ตัด อะไร แล้ว เหรอ ครับ xxbos   พี่ คะ หนู จะ สอบถาม ว่า หนู ใช้ ท รู มูฟ เอ ช เป็น   air   card   มีค่า อะไร   บาท xxbos   ครับ   สอบถาม การ เติม เงิน หน่อย ครับ   คือ   บัตรเติมเงิน</td>\n",
              "    </tr>\n",
              "    <tr>\n",
              "      <td>4</td>\n",
              "      <td>โทรศัพท์ บีบี ใช้ ไหม   แล้ว เล่น   ไลน์   ได้ ไหม xxbos   อินเตอร์เน็ต ที่ ตัด ไป ค้าง กี่ เดือน คะ xxbos   เคย แจ้ง ยกเลิก   sms   ไป   แต่ ตอนนี้ ยัง มี ส่ง มา อยู่ ครับ xxbos   อยาก ทราบ ว่า ทำไม เข้าไป เล่น เน็ต ไม่ได้ ครับ xxbos   ขอ ทราบ ยอดเงิน คงเหลือ ครับ xxbos</td>\n",
              "    </tr>\n",
              "  </tbody>\n",
              "</table>"
            ],
            "text/plain": [
              "<IPython.core.display.HTML object>"
            ]
          },
          "metadata": {
            "tags": []
          }
        }
      ]
    },
    {
      "cell_type": "code",
      "metadata": {
        "id": "VzjkL_p9F8my",
        "colab_type": "code",
        "outputId": "6fc2a612-c156-4e20-ac02-bcbcd04674eb",
        "colab": {
          "base_uri": "https://localhost:8080/",
          "height": 1000
        }
      },
      "source": [
        "config = dict(emb_sz=400, n_hid=1550, n_layers=4, pad_token=1, qrnn=False, tie_weights=True, out_bias=True,\n",
        "             output_p=0.25, hidden_p=0.1, input_p=0.2, embed_p=0.02, weight_p=0.15)\n",
        "trn_args = dict(drop_mult=0.9, clip=0.12, alpha=2, beta=1)\n",
        "\n",
        "learn = language_model_learner(data_lm, AWD_LSTM, config=config, pretrained=False, **trn_args)\n",
        "\n",
        "#load pretrained models\n",
        "learn.load_pretrained(**THWIKI_LSTM)"
      ],
      "execution_count": 0,
      "outputs": [
        {
          "output_type": "execute_result",
          "data": {
            "text/plain": [
              "LanguageLearner(data=TextLMDataBunch;\n",
              "\n",
              "Train: LabelList (12781 items)\n",
              "x: LMTextList\n",
              "xxbos   สอบถาม   package   internet   ว่า มี แบบ ไหน บ้าง ครับ,xxbos   ค่ะ   พี่ ค่ะ   คือ อยู่ ๆ   เน็ต เล่น ไม่ได้ อ่ะ ค่ะ,xxbos   การ เปลี่ยน   ระบบ จาก   ท รู   เป็น   ท รู เอ ช   มี ค่าบริการ ด้วย หรอ ค่ะ,xxbos   เช็ค ให้ หน่อย ได้ ไหม ครับ   ว่า เบอร์ ของ ผม   เปลี่ยนเป็น บุฟเฟ่ต์   บาท รึ ยัง,xxbos   จะ โทร แจ้ง xxunk ซิม อ่ะ ค่ะ   ซิม หาย\n",
              "y: LMLabelList\n",
              ",,,,\n",
              "Path: truevoice_data;\n",
              "\n",
              "Valid: LabelList (129 items)\n",
              "x: LMTextList\n",
              "xxbos   พอดี จะ สอบถาม อินเตอร์ ว่า ใช้งาน ได้ รึ ยัง,xxbos   มี   sms   เข้า   แจ้ง ว่า ถูก คิด ค่าบริการ จาก   gprs   อะ ค่ะ,xxbos   อยาก สมัคร แพ็ค แก xxunk รู วาย ฟาย แบบ รายเดือน ค่ะ,xxbos   ผม ค้นหา xxunk ทู xxunk แล้ว ค้นหา อุปกรณ์ ไม่ เจอ   มัน เป็น เพราะอะไร ครับ,xxbos   ยกเลิก บริการ แล้วแต่ ทำไม ยัง มี   xxunk   /   ยอด เรียก เก็บ อีก\n",
              "y: LMLabelList\n",
              ",,,,\n",
              "Path: truevoice_data;\n",
              "\n",
              "Test: None, model=SequentialRNN(\n",
              "  (0): AWD_LSTM(\n",
              "    (encoder): Embedding(1648, 400, padding_idx=1)\n",
              "    (encoder_dp): EmbeddingDropout(\n",
              "      (emb): Embedding(1648, 400, padding_idx=1)\n",
              "    )\n",
              "    (rnns): ModuleList(\n",
              "      (0): WeightDropout(\n",
              "        (module): LSTM(400, 1550, batch_first=True)\n",
              "      )\n",
              "      (1): WeightDropout(\n",
              "        (module): LSTM(1550, 1550, batch_first=True)\n",
              "      )\n",
              "      (2): WeightDropout(\n",
              "        (module): LSTM(1550, 1550, batch_first=True)\n",
              "      )\n",
              "      (3): WeightDropout(\n",
              "        (module): LSTM(1550, 400, batch_first=True)\n",
              "      )\n",
              "    )\n",
              "    (input_dp): RNNDropout()\n",
              "    (hidden_dps): ModuleList(\n",
              "      (0): RNNDropout()\n",
              "      (1): RNNDropout()\n",
              "      (2): RNNDropout()\n",
              "      (3): RNNDropout()\n",
              "    )\n",
              "  )\n",
              "  (1): LinearDecoder(\n",
              "    (decoder): Linear(in_features=400, out_features=1648, bias=True)\n",
              "    (output_dp): RNNDropout()\n",
              "  )\n",
              "), opt_func=functools.partial(<class 'torch.optim.adam.Adam'>, betas=(0.9, 0.99)), loss_func=FlattenedLoss of CrossEntropyLoss(), metrics=[<function accuracy at 0x7fc5035812f0>], true_wd=True, bn_wd=True, wd=0.01, train_bn=True, path=PosixPath('truevoice_data'), model_dir='models', callback_fns=[functools.partial(<class 'fastai.basic_train.Recorder'>, add_time=True, silent=False), functools.partial(<class 'fastai.train.GradientClipping'>, clip=0.12)], callbacks=[RNNTrainer\n",
              "learn: LanguageLearner(data=TextLMDataBunch;\n",
              "\n",
              "Train: LabelList (12781 items)\n",
              "x: LMTextList\n",
              "xxbos   สอบถาม   package   internet   ว่า มี แบบ ไหน บ้าง ครับ,xxbos   ค่ะ   พี่ ค่ะ   คือ อยู่ ๆ   เน็ต เล่น ไม่ได้ อ่ะ ค่ะ,xxbos   การ เปลี่ยน   ระบบ จาก   ท รู   เป็น   ท รู เอ ช   มี ค่าบริการ ด้วย หรอ ค่ะ,xxbos   เช็ค ให้ หน่อย ได้ ไหม ครับ   ว่า เบอร์ ของ ผม   เปลี่ยนเป็น บุฟเฟ่ต์   บาท รึ ยัง,xxbos   จะ โทร แจ้ง xxunk ซิม อ่ะ ค่ะ   ซิม หาย\n",
              "y: LMLabelList\n",
              ",,,,\n",
              "Path: truevoice_data;\n",
              "\n",
              "Valid: LabelList (129 items)\n",
              "x: LMTextList\n",
              "xxbos   พอดี จะ สอบถาม อินเตอร์ ว่า ใช้งาน ได้ รึ ยัง,xxbos   มี   sms   เข้า   แจ้ง ว่า ถูก คิด ค่าบริการ จาก   gprs   อะ ค่ะ,xxbos   อยาก สมัคร แพ็ค แก xxunk รู วาย ฟาย แบบ รายเดือน ค่ะ,xxbos   ผม ค้นหา xxunk ทู xxunk แล้ว ค้นหา อุปกรณ์ ไม่ เจอ   มัน เป็น เพราะอะไร ครับ,xxbos   ยกเลิก บริการ แล้วแต่ ทำไม ยัง มี   xxunk   /   ยอด เรียก เก็บ อีก\n",
              "y: LMLabelList\n",
              ",,,,\n",
              "Path: truevoice_data;\n",
              "\n",
              "Test: None, model=SequentialRNN(\n",
              "  (0): AWD_LSTM(\n",
              "    (encoder): Embedding(1648, 400, padding_idx=1)\n",
              "    (encoder_dp): EmbeddingDropout(\n",
              "      (emb): Embedding(1648, 400, padding_idx=1)\n",
              "    )\n",
              "    (rnns): ModuleList(\n",
              "      (0): WeightDropout(\n",
              "        (module): LSTM(400, 1550, batch_first=True)\n",
              "      )\n",
              "      (1): WeightDropout(\n",
              "        (module): LSTM(1550, 1550, batch_first=True)\n",
              "      )\n",
              "      (2): WeightDropout(\n",
              "        (module): LSTM(1550, 1550, batch_first=True)\n",
              "      )\n",
              "      (3): WeightDropout(\n",
              "        (module): LSTM(1550, 400, batch_first=True)\n",
              "      )\n",
              "    )\n",
              "    (input_dp): RNNDropout()\n",
              "    (hidden_dps): ModuleList(\n",
              "      (0): RNNDropout()\n",
              "      (1): RNNDropout()\n",
              "      (2): RNNDropout()\n",
              "      (3): RNNDropout()\n",
              "    )\n",
              "  )\n",
              "  (1): LinearDecoder(\n",
              "    (decoder): Linear(in_features=400, out_features=1648, bias=True)\n",
              "    (output_dp): RNNDropout()\n",
              "  )\n",
              "), opt_func=functools.partial(<class 'torch.optim.adam.Adam'>, betas=(0.9, 0.99)), loss_func=FlattenedLoss of CrossEntropyLoss(), metrics=[<function accuracy at 0x7fc5035812f0>], true_wd=True, bn_wd=True, wd=0.01, train_bn=True, path=PosixPath('truevoice_data'), model_dir='models', callback_fns=[functools.partial(<class 'fastai.basic_train.Recorder'>, add_time=True, silent=False), functools.partial(<class 'fastai.train.GradientClipping'>, clip=0.12)], callbacks=[...], layer_groups=[Sequential(\n",
              "  (0): WeightDropout(\n",
              "    (module): LSTM(400, 1550, batch_first=True)\n",
              "  )\n",
              "  (1): RNNDropout()\n",
              "), Sequential(\n",
              "  (0): WeightDropout(\n",
              "    (module): LSTM(1550, 1550, batch_first=True)\n",
              "  )\n",
              "  (1): RNNDropout()\n",
              "), Sequential(\n",
              "  (0): WeightDropout(\n",
              "    (module): LSTM(1550, 1550, batch_first=True)\n",
              "  )\n",
              "  (1): RNNDropout()\n",
              "), Sequential(\n",
              "  (0): WeightDropout(\n",
              "    (module): LSTM(1550, 400, batch_first=True)\n",
              "  )\n",
              "  (1): RNNDropout()\n",
              "), Sequential(\n",
              "  (0): Embedding(1648, 400, padding_idx=1)\n",
              "  (1): EmbeddingDropout(\n",
              "    (emb): Embedding(1648, 400, padding_idx=1)\n",
              "  )\n",
              "  (2): LinearDecoder(\n",
              "    (decoder): Linear(in_features=400, out_features=1648, bias=True)\n",
              "    (output_dp): RNNDropout()\n",
              "  )\n",
              ")], add_time=True, silent=False)\n",
              "alpha: 2\n",
              "beta: 1], layer_groups=[Sequential(\n",
              "  (0): WeightDropout(\n",
              "    (module): LSTM(400, 1550, batch_first=True)\n",
              "  )\n",
              "  (1): RNNDropout()\n",
              "), Sequential(\n",
              "  (0): WeightDropout(\n",
              "    (module): LSTM(1550, 1550, batch_first=True)\n",
              "  )\n",
              "  (1): RNNDropout()\n",
              "), Sequential(\n",
              "  (0): WeightDropout(\n",
              "    (module): LSTM(1550, 1550, batch_first=True)\n",
              "  )\n",
              "  (1): RNNDropout()\n",
              "), Sequential(\n",
              "  (0): WeightDropout(\n",
              "    (module): LSTM(1550, 400, batch_first=True)\n",
              "  )\n",
              "  (1): RNNDropout()\n",
              "), Sequential(\n",
              "  (0): Embedding(1648, 400, padding_idx=1)\n",
              "  (1): EmbeddingDropout(\n",
              "    (emb): Embedding(1648, 400, padding_idx=1)\n",
              "  )\n",
              "  (2): LinearDecoder(\n",
              "    (decoder): Linear(in_features=400, out_features=1648, bias=True)\n",
              "    (output_dp): RNNDropout()\n",
              "  )\n",
              ")], add_time=True, silent=False)"
            ]
          },
          "metadata": {
            "tags": []
          },
          "execution_count": 23
        }
      ]
    },
    {
      "cell_type": "code",
      "metadata": {
        "id": "AV09lbAUF8m1",
        "colab_type": "code",
        "outputId": "0354829e-68f1-419e-ad09-020e97facca5",
        "colab": {
          "base_uri": "https://localhost:8080/",
          "height": 439
        }
      },
      "source": [
        "learn.lr_find()\n",
        "learn.recorder.plot()"
      ],
      "execution_count": 0,
      "outputs": [
        {
          "output_type": "display_data",
          "data": {
            "text/html": [
              "\n",
              "    <div>\n",
              "        <style>\n",
              "            /* Turns off some styling */\n",
              "            progress {\n",
              "                /* gets rid of default border in Firefox and Opera. */\n",
              "                border: none;\n",
              "                /* Needs to be in here for Safari polyfill so background images work as expected. */\n",
              "                background-size: auto;\n",
              "            }\n",
              "            .progress-bar-interrupted, .progress-bar-interrupted::-webkit-progress-bar {\n",
              "                background: #F44336;\n",
              "            }\n",
              "        </style>\n",
              "      <progress value='2' class='' max='3' style='width:300px; height:20px; vertical-align: middle;'></progress>\n",
              "      66.67% [2/3 00:26<00:13]\n",
              "    </div>\n",
              "    \n",
              "<table border=\"1\" class=\"dataframe\">\n",
              "  <thead>\n",
              "    <tr style=\"text-align: left;\">\n",
              "      <th>epoch</th>\n",
              "      <th>train_loss</th>\n",
              "      <th>valid_loss</th>\n",
              "      <th>accuracy</th>\n",
              "      <th>time</th>\n",
              "    </tr>\n",
              "  </thead>\n",
              "  <tbody>\n",
              "    <tr>\n",
              "      <td>0</td>\n",
              "      <td>6.263569</td>\n",
              "      <td>#na#</td>\n",
              "      <td>00:13</td>\n",
              "    </tr>\n",
              "    <tr>\n",
              "      <td>1</td>\n",
              "      <td>6.933775</td>\n",
              "      <td>#na#</td>\n",
              "      <td>00:12</td>\n",
              "    </tr>\n",
              "  </tbody>\n",
              "</table><p>\n",
              "\n",
              "    <div>\n",
              "        <style>\n",
              "            /* Turns off some styling */\n",
              "            progress {\n",
              "                /* gets rid of default border in Firefox and Opera. */\n",
              "                border: none;\n",
              "                /* Needs to be in here for Safari polyfill so background images work as expected. */\n",
              "                background-size: auto;\n",
              "            }\n",
              "            .progress-bar-interrupted, .progress-bar-interrupted::-webkit-progress-bar {\n",
              "                background: #F44336;\n",
              "            }\n",
              "        </style>\n",
              "      <progress value='7' class='' max='46' style='width:300px; height:20px; vertical-align: middle;'></progress>\n",
              "      15.22% [7/46 00:01<00:10 17.8101]\n",
              "    </div>\n",
              "    "
            ],
            "text/plain": [
              "<IPython.core.display.HTML object>"
            ]
          },
          "metadata": {
            "tags": []
          }
        },
        {
          "output_type": "stream",
          "text": [
            "LR Finder is complete, type {learner_name}.recorder.plot() to see the graph.\n"
          ],
          "name": "stdout"
        },
        {
          "output_type": "display_data",
          "data": {
            "image/png": "[encoded data removed]",
            "text/plain": [
              "<Figure size 432x288 with 1 Axes>"
            ]
          },
          "metadata": {
            "tags": [],
            "needs_background": "light"
          }
        }
      ]
    },
    {
      "cell_type": "code",
      "metadata": {
        "id": "P8EYA85MF8m3",
        "colab_type": "code",
        "outputId": "c07014f6-1f93-4a01-bcdd-2500f8751bc7",
        "colab": {
          "base_uri": "https://localhost:8080/",
          "height": 34
        }
      },
      "source": [
        "len(learn.data.vocab.itos)"
      ],
      "execution_count": 0,
      "outputs": [
        {
          "output_type": "execute_result",
          "data": {
            "text/plain": [
              "1648"
            ]
          },
          "metadata": {
            "tags": []
          },
          "execution_count": 25
        }
      ]
    },
    {
      "cell_type": "code",
      "metadata": {
        "id": "jfievykPF8m6",
        "colab_type": "code",
        "outputId": "28082b8c-c04d-4db6-c06d-1e8c7e872edb",
        "colab": {
          "base_uri": "https://localhost:8080/",
          "height": 97
        }
      },
      "source": [
        "#train frozen\n",
        "print('training frozen')\n",
        "learn.freeze_to(-1)\n",
        "learn.fit_one_cycle(1, 1e-3, moms=(0.8, 0.7))"
      ],
      "execution_count": 0,
      "outputs": [
        {
          "output_type": "stream",
          "text": [
            "training frozen\n"
          ],
          "name": "stdout"
        },
        {
          "output_type": "display_data",
          "data": {
            "text/html": [
              "<table border=\"1\" class=\"dataframe\">\n",
              "  <thead>\n",
              "    <tr style=\"text-align: left;\">\n",
              "      <th>epoch</th>\n",
              "      <th>train_loss</th>\n",
              "      <th>valid_loss</th>\n",
              "      <th>accuracy</th>\n",
              "      <th>time</th>\n",
              "    </tr>\n",
              "  </thead>\n",
              "  <tbody>\n",
              "    <tr>\n",
              "      <td>0</td>\n",
              "      <td>6.088318</td>\n",
              "      <td>5.605548</td>\n",
              "      <td>0.216295</td>\n",
              "      <td>00:09</td>\n",
              "    </tr>\n",
              "  </tbody>\n",
              "</table>"
            ],
            "text/plain": [
              "<IPython.core.display.HTML object>"
            ]
          },
          "metadata": {
            "tags": []
          }
        }
      ]
    },
    {
      "cell_type": "code",
      "metadata": {
        "id": "GlagYfBDF8m-",
        "colab_type": "code",
        "outputId": "66611cf9-f2a7-4046-eec9-9e26b98228df",
        "colab": {
          "base_uri": "https://localhost:8080/",
          "height": 376
        }
      },
      "source": [
        "#train unfrozen\n",
        "print('training unfrozen')\n",
        "learn.unfreeze()\n",
        "learn.fit_one_cycle(10, 1e-4, moms=(0.8, 0.7))"
      ],
      "execution_count": 0,
      "outputs": [
        {
          "output_type": "stream",
          "text": [
            "training unfrozen\n"
          ],
          "name": "stdout"
        },
        {
          "output_type": "display_data",
          "data": {
            "text/html": [
              "<table border=\"1\" class=\"dataframe\">\n",
              "  <thead>\n",
              "    <tr style=\"text-align: left;\">\n",
              "      <th>epoch</th>\n",
              "      <th>train_loss</th>\n",
              "      <th>valid_loss</th>\n",
              "      <th>accuracy</th>\n",
              "      <th>time</th>\n",
              "    </tr>\n",
              "  </thead>\n",
              "  <tbody>\n",
              "    <tr>\n",
              "      <td>0</td>\n",
              "      <td>5.552826</td>\n",
              "      <td>4.931184</td>\n",
              "      <td>0.225893</td>\n",
              "      <td>00:13</td>\n",
              "    </tr>\n",
              "    <tr>\n",
              "      <td>1</td>\n",
              "      <td>4.979910</td>\n",
              "      <td>4.119917</td>\n",
              "      <td>0.283259</td>\n",
              "      <td>00:13</td>\n",
              "    </tr>\n",
              "    <tr>\n",
              "      <td>2</td>\n",
              "      <td>4.472735</td>\n",
              "      <td>3.767354</td>\n",
              "      <td>0.319196</td>\n",
              "      <td>00:12</td>\n",
              "    </tr>\n",
              "    <tr>\n",
              "      <td>3</td>\n",
              "      <td>4.147000</td>\n",
              "      <td>3.611560</td>\n",
              "      <td>0.336607</td>\n",
              "      <td>00:13</td>\n",
              "    </tr>\n",
              "    <tr>\n",
              "      <td>4</td>\n",
              "      <td>3.933862</td>\n",
              "      <td>3.511489</td>\n",
              "      <td>0.343527</td>\n",
              "      <td>00:12</td>\n",
              "    </tr>\n",
              "    <tr>\n",
              "      <td>5</td>\n",
              "      <td>3.808146</td>\n",
              "      <td>3.460953</td>\n",
              "      <td>0.347545</td>\n",
              "      <td>00:12</td>\n",
              "    </tr>\n",
              "    <tr>\n",
              "      <td>6</td>\n",
              "      <td>3.727168</td>\n",
              "      <td>3.431783</td>\n",
              "      <td>0.351339</td>\n",
              "      <td>00:12</td>\n",
              "    </tr>\n",
              "    <tr>\n",
              "      <td>7</td>\n",
              "      <td>3.676329</td>\n",
              "      <td>3.410134</td>\n",
              "      <td>0.352009</td>\n",
              "      <td>00:13</td>\n",
              "    </tr>\n",
              "    <tr>\n",
              "      <td>8</td>\n",
              "      <td>3.646956</td>\n",
              "      <td>3.405561</td>\n",
              "      <td>0.353571</td>\n",
              "      <td>00:12</td>\n",
              "    </tr>\n",
              "    <tr>\n",
              "      <td>9</td>\n",
              "      <td>3.627930</td>\n",
              "      <td>3.407281</td>\n",
              "      <td>0.353571</td>\n",
              "      <td>00:13</td>\n",
              "    </tr>\n",
              "  </tbody>\n",
              "</table>"
            ],
            "text/plain": [
              "<IPython.core.display.HTML object>"
            ]
          },
          "metadata": {
            "tags": []
          }
        }
      ]
    },
    {
      "cell_type": "code",
      "metadata": {
        "id": "6wp7xifbF8nB",
        "colab_type": "code",
        "colab": {}
      },
      "source": [
        "learn.save('truevoice_lm')\n",
        "learn.save_encoder('truevoice_enc')"
      ],
      "execution_count": 0,
      "outputs": []
    },
    {
      "cell_type": "markdown",
      "metadata": {
        "id": "Mjv8qjuuF8nE",
        "colab_type": "text"
      },
      "source": [
        "### Classification"
      ]
    },
    {
      "cell_type": "code",
      "metadata": {
        "id": "v4rNuoNrF8nE",
        "colab_type": "code",
        "outputId": "0504fbdc-b62e-4a84-b866-b890f470185d",
        "colab": {
          "base_uri": "https://localhost:8080/",
          "height": 17
        }
      },
      "source": [
        "tt = Tokenizer(tok_func = ThaiTokenizer, lang = 'th', pre_rules = pre_rules_th, post_rules=post_rules_th)\n",
        "processor = [TokenizeProcessor(tokenizer=tt, chunksize=10000, mark_fields=False),\n",
        "            NumericalizeProcessor(vocab=data_lm.vocab, max_vocab=60000, min_freq=3)]\n",
        "\n",
        "train_df = pd.read_csv(f'mari-train-balanced.csv')\n",
        "train_df['destination'] = train_df.destination.map(lambda x: x.replace(' ','_'))\n",
        "\n",
        "data_cls = (TextList.from_df(train_df, model_path, cols=['texts'], processor=processor)\n",
        "    .random_split_by_pct(valid_pct = 0.05, seed = 1412)\n",
        "    .label_from_df('destination')\n",
        "    .add_test(TextList.from_df(test_df, model_path, cols=['texts'], processor=processor))\n",
        "    .databunch(bs=64)\n",
        "    )\n",
        "\n",
        "data_cls.sanity_check()\n",
        "data_cls.save('truevoice_cls.pkl')"
      ],
      "execution_count": 0,
      "outputs": [
        {
          "output_type": "display_data",
          "data": {
            "text/html": [
              ""
            ],
            "text/plain": [
              "<IPython.core.display.HTML object>"
            ]
          },
          "metadata": {
            "tags": []
          }
        },
        {
          "output_type": "display_data",
          "data": {
            "text/html": [
              ""
            ],
            "text/plain": [
              "<IPython.core.display.HTML object>"
            ]
          },
          "metadata": {
            "tags": []
          }
        },
        {
          "output_type": "display_data",
          "data": {
            "text/html": [
              ""
            ],
            "text/plain": [
              "<IPython.core.display.HTML object>"
            ]
          },
          "metadata": {
            "tags": []
          }
        }
      ]
    },
    {
      "cell_type": "code",
      "metadata": {
        "id": "GQ9oE5AAF8nH",
        "colab_type": "code",
        "outputId": "b4749e87-be0d-40ad-de61-ed3feef9cead",
        "colab": {
          "base_uri": "https://localhost:8080/",
          "height": 1000
        }
      },
      "source": [
        "config = dict(emb_sz=400, n_hid=1550, n_layers=4, pad_token=1, qrnn=False,\n",
        "             output_p=0.25, hidden_p=0.1, input_p=0.2, embed_p=0.02, weight_p=0.15)\n",
        "trn_args = dict(bptt=70, drop_mult=0.5, alpha=2, beta=1)\n",
        "\n",
        "learn = text_classifier_learner(data_cls, AWD_LSTM, config=config, pretrained=False, **trn_args)\n",
        "learn.opt_func = partial(optim.Adam, betas=(0.7, 0.99))\n",
        "\n",
        "#load pretrained finetuned model\n",
        "learn.load_encoder('truevoice_enc')"
      ],
      "execution_count": 0,
      "outputs": [
        {
          "output_type": "execute_result",
          "data": {
            "text/plain": [
              "RNNLearner(data=TextClasDataBunch;\n",
              "\n",
              "Train: LabelList (9788 items)\n",
              "x: TextList\n",
              "xxbos   สอบถาม   package   internet   ว่า มี แบบ ไหน บ้าง ครับ,xxbos   ค่ะ   พี่ ค่ะ   คือ อยู่ ๆ   เน็ต เล่น ไม่ได้ อ่ะ ค่ะ,xxbos   การ เปลี่ยน   ระบบ จาก   ท รู   เป็น   ท รู เอ ช   มี ค่าบริการ ด้วย หรอ ค่ะ,xxbos   เช็ค ให้ หน่อย ได้ ไหม ครับ   ว่า เบอร์ ของ ผม   เปลี่ยนเป็น บุฟเฟ่ต์   บาท รึ ยัง,xxbos   จะ โทร แจ้ง xxunk ซิม อ่ะ ค่ะ   ซิม หาย\n",
              "y: CategoryList\n",
              "promotions,internet,promotions,promotions,lost_and_stolen\n",
              "Path: truevoice_data;\n",
              "\n",
              "Valid: LabelList (515 items)\n",
              "x: TextList\n",
              "xxbos   ทำไม ไม่ สามารถ ทำการ เติม เงินได้ ค่ะ,xxbos   ชำระ ยอด มา แล้ว   บาท   ตอนนี้ มี ยอด ค้าง อยู่ ไหม,xxbos   ได้ จดหมาย ของ ทรูวิชั่น   แต่ ไป ชำระ ค่าบริการ มา แล้ว   จะ เช็ค ว่า ทำไม ถึง มี ใบ แจ้ง เข้ามา ค่ะ,xxbos   เบอร์ นี้ สมัคร เป็น โปร อะไร ครับ,xxbos   จะ ยกเลิก บริการ   sms   ค่ะ\n",
              "y: CategoryList\n",
              "true_money,billing_and_payment,billing_and_payment,promotions,other_queries\n",
              "Path: truevoice_data;\n",
              "\n",
              "Test: LabelList (2607 items)\n",
              "x: TextList\n",
              "xxbos   อยาก สอบถาม ว่า   มี   sms   แจ้ง ว่า ใช้ ยอด เกิน   อยากรู้ ว่า มัน เกิด จาก อะไร   ครับ,xxbos   สมัคร   โปร ไป แล้ว ได้รับ เอสเอ็มเอส   กลับมา ว่า   คุณ มี โปรโมชั่น หรือ แพคเกจ ที่ ไม่ สามารถ สมัคร ร่วมกับ แพคเกจ นี้ ได้,xxbos   จะ สอบถาม เกี่ยวกับ ค่าใช้จ่าย,xxbos   จ่าย ค่า โทร ไป แล้ว วันนี้   นาน ไหม คับ กว่า จะ กลับมา โทร ได้ อีก,xxbos   หนู ขอ สอบถาม เกี่ยวกับ ค่า บ ริ กา ณ หน่อย พี่\n",
              "y: EmptyLabelList\n",
              ",,,,\n",
              "Path: truevoice_data, model=SequentialRNN(\n",
              "  (0): MultiBatchEncoder(\n",
              "    (module): AWD_LSTM(\n",
              "      (encoder): Embedding(1648, 400, padding_idx=1)\n",
              "      (encoder_dp): EmbeddingDropout(\n",
              "        (emb): Embedding(1648, 400, padding_idx=1)\n",
              "      )\n",
              "      (rnns): ModuleList(\n",
              "        (0): WeightDropout(\n",
              "          (module): LSTM(400, 1550, batch_first=True)\n",
              "        )\n",
              "        (1): WeightDropout(\n",
              "          (module): LSTM(1550, 1550, batch_first=True)\n",
              "        )\n",
              "        (2): WeightDropout(\n",
              "          (module): LSTM(1550, 1550, batch_first=True)\n",
              "        )\n",
              "        (3): WeightDropout(\n",
              "          (module): LSTM(1550, 400, batch_first=True)\n",
              "        )\n",
              "      )\n",
              "      (input_dp): RNNDropout()\n",
              "      (hidden_dps): ModuleList(\n",
              "        (0): RNNDropout()\n",
              "        (1): RNNDropout()\n",
              "        (2): RNNDropout()\n",
              "        (3): RNNDropout()\n",
              "      )\n",
              "    )\n",
              "  )\n",
              "  (1): PoolingLinearClassifier(\n",
              "    (layers): Sequential(\n",
              "      (0): BatchNorm1d(1200, eps=1e-05, momentum=0.1, affine=True, track_running_stats=True)\n",
              "      (1): Dropout(p=0.125, inplace=False)\n",
              "      (2): Linear(in_features=1200, out_features=50, bias=True)\n",
              "      (3): ReLU(inplace=True)\n",
              "      (4): BatchNorm1d(50, eps=1e-05, momentum=0.1, affine=True, track_running_stats=True)\n",
              "      (5): Dropout(p=0.1, inplace=False)\n",
              "      (6): Linear(in_features=50, out_features=7, bias=True)\n",
              "    )\n",
              "  )\n",
              "), opt_func=functools.partial(<class 'torch.optim.adam.Adam'>, betas=(0.7, 0.99)), loss_func=FlattenedLoss of CrossEntropyLoss(), metrics=[<function accuracy at 0x7fc5035812f0>], true_wd=True, bn_wd=True, wd=0.01, train_bn=True, path=PosixPath('truevoice_data'), model_dir='models', callback_fns=[functools.partial(<class 'fastai.basic_train.Recorder'>, add_time=True, silent=False)], callbacks=[RNNTrainer\n",
              "learn: RNNLearner(data=TextClasDataBunch;\n",
              "\n",
              "Train: LabelList (9788 items)\n",
              "x: TextList\n",
              "xxbos   สอบถาม   package   internet   ว่า มี แบบ ไหน บ้าง ครับ,xxbos   ค่ะ   พี่ ค่ะ   คือ อยู่ ๆ   เน็ต เล่น ไม่ได้ อ่ะ ค่ะ,xxbos   การ เปลี่ยน   ระบบ จาก   ท รู   เป็น   ท รู เอ ช   มี ค่าบริการ ด้วย หรอ ค่ะ,xxbos   เช็ค ให้ หน่อย ได้ ไหม ครับ   ว่า เบอร์ ของ ผม   เปลี่ยนเป็น บุฟเฟ่ต์   บาท รึ ยัง,xxbos   จะ โทร แจ้ง xxunk ซิม อ่ะ ค่ะ   ซิม หาย\n",
              "y: CategoryList\n",
              "promotions,internet,promotions,promotions,lost_and_stolen\n",
              "Path: truevoice_data;\n",
              "\n",
              "Valid: LabelList (515 items)\n",
              "x: TextList\n",
              "xxbos   ทำไม ไม่ สามารถ ทำการ เติม เงินได้ ค่ะ,xxbos   ชำระ ยอด มา แล้ว   บาท   ตอนนี้ มี ยอด ค้าง อยู่ ไหม,xxbos   ได้ จดหมาย ของ ทรูวิชั่น   แต่ ไป ชำระ ค่าบริการ มา แล้ว   จะ เช็ค ว่า ทำไม ถึง มี ใบ แจ้ง เข้ามา ค่ะ,xxbos   เบอร์ นี้ สมัคร เป็น โปร อะไร ครับ,xxbos   จะ ยกเลิก บริการ   sms   ค่ะ\n",
              "y: CategoryList\n",
              "true_money,billing_and_payment,billing_and_payment,promotions,other_queries\n",
              "Path: truevoice_data;\n",
              "\n",
              "Test: LabelList (2607 items)\n",
              "x: TextList\n",
              "xxbos   อยาก สอบถาม ว่า   มี   sms   แจ้ง ว่า ใช้ ยอด เกิน   อยากรู้ ว่า มัน เกิด จาก อะไร   ครับ,xxbos   สมัคร   โปร ไป แล้ว ได้รับ เอสเอ็มเอส   กลับมา ว่า   คุณ มี โปรโมชั่น หรือ แพคเกจ ที่ ไม่ สามารถ สมัคร ร่วมกับ แพคเกจ นี้ ได้,xxbos   จะ สอบถาม เกี่ยวกับ ค่าใช้จ่าย,xxbos   จ่าย ค่า โทร ไป แล้ว วันนี้   นาน ไหม คับ กว่า จะ กลับมา โทร ได้ อีก,xxbos   หนู ขอ สอบถาม เกี่ยวกับ ค่า บ ริ กา ณ หน่อย พี่\n",
              "y: EmptyLabelList\n",
              ",,,,\n",
              "Path: truevoice_data, model=SequentialRNN(\n",
              "  (0): MultiBatchEncoder(\n",
              "    (module): AWD_LSTM(\n",
              "      (encoder): Embedding(1648, 400, padding_idx=1)\n",
              "      (encoder_dp): EmbeddingDropout(\n",
              "        (emb): Embedding(1648, 400, padding_idx=1)\n",
              "      )\n",
              "      (rnns): ModuleList(\n",
              "        (0): WeightDropout(\n",
              "          (module): LSTM(400, 1550, batch_first=True)\n",
              "        )\n",
              "        (1): WeightDropout(\n",
              "          (module): LSTM(1550, 1550, batch_first=True)\n",
              "        )\n",
              "        (2): WeightDropout(\n",
              "          (module): LSTM(1550, 1550, batch_first=True)\n",
              "        )\n",
              "        (3): WeightDropout(\n",
              "          (module): LSTM(1550, 400, batch_first=True)\n",
              "        )\n",
              "      )\n",
              "      (input_dp): RNNDropout()\n",
              "      (hidden_dps): ModuleList(\n",
              "        (0): RNNDropout()\n",
              "        (1): RNNDropout()\n",
              "        (2): RNNDropout()\n",
              "        (3): RNNDropout()\n",
              "      )\n",
              "    )\n",
              "  )\n",
              "  (1): PoolingLinearClassifier(\n",
              "    (layers): Sequential(\n",
              "      (0): BatchNorm1d(1200, eps=1e-05, momentum=0.1, affine=True, track_running_stats=True)\n",
              "      (1): Dropout(p=0.125, inplace=False)\n",
              "      (2): Linear(in_features=1200, out_features=50, bias=True)\n",
              "      (3): ReLU(inplace=True)\n",
              "      (4): BatchNorm1d(50, eps=1e-05, momentum=0.1, affine=True, track_running_stats=True)\n",
              "      (5): Dropout(p=0.1, inplace=False)\n",
              "      (6): Linear(in_features=50, out_features=7, bias=True)\n",
              "    )\n",
              "  )\n",
              "), opt_func=functools.partial(<class 'torch.optim.adam.Adam'>, betas=(0.7, 0.99)), loss_func=FlattenedLoss of CrossEntropyLoss(), metrics=[<function accuracy at 0x7fc5035812f0>], true_wd=True, bn_wd=True, wd=0.01, train_bn=True, path=PosixPath('truevoice_data'), model_dir='models', callback_fns=[functools.partial(<class 'fastai.basic_train.Recorder'>, add_time=True, silent=False)], callbacks=[...], layer_groups=[Sequential(\n",
              "  (0): Embedding(1648, 400, padding_idx=1)\n",
              "  (1): EmbeddingDropout(\n",
              "    (emb): Embedding(1648, 400, padding_idx=1)\n",
              "  )\n",
              "), Sequential(\n",
              "  (0): WeightDropout(\n",
              "    (module): LSTM(400, 1550, batch_first=True)\n",
              "  )\n",
              "  (1): RNNDropout()\n",
              "), Sequential(\n",
              "  (0): WeightDropout(\n",
              "    (module): LSTM(1550, 1550, batch_first=True)\n",
              "  )\n",
              "  (1): RNNDropout()\n",
              "), Sequential(\n",
              "  (0): WeightDropout(\n",
              "    (module): LSTM(1550, 1550, batch_first=True)\n",
              "  )\n",
              "  (1): RNNDropout()\n",
              "), Sequential(\n",
              "  (0): WeightDropout(\n",
              "    (module): LSTM(1550, 400, batch_first=True)\n",
              "  )\n",
              "  (1): RNNDropout()\n",
              "), Sequential(\n",
              "  (0): PoolingLinearClassifier(\n",
              "    (layers): Sequential(\n",
              "      (0): BatchNorm1d(1200, eps=1e-05, momentum=0.1, affine=True, track_running_stats=True)\n",
              "      (1): Dropout(p=0.125, inplace=False)\n",
              "      (2): Linear(in_features=1200, out_features=50, bias=True)\n",
              "      (3): ReLU(inplace=True)\n",
              "      (4): BatchNorm1d(50, eps=1e-05, momentum=0.1, affine=True, track_running_stats=True)\n",
              "      (5): Dropout(p=0.1, inplace=False)\n",
              "      (6): Linear(in_features=50, out_features=7, bias=True)\n",
              "    )\n",
              "  )\n",
              ")], add_time=True, silent=False)\n",
              "alpha: 2\n",
              "beta: 1], layer_groups=[Sequential(\n",
              "  (0): Embedding(1648, 400, padding_idx=1)\n",
              "  (1): EmbeddingDropout(\n",
              "    (emb): Embedding(1648, 400, padding_idx=1)\n",
              "  )\n",
              "), Sequential(\n",
              "  (0): WeightDropout(\n",
              "    (module): LSTM(400, 1550, batch_first=True)\n",
              "  )\n",
              "  (1): RNNDropout()\n",
              "), Sequential(\n",
              "  (0): WeightDropout(\n",
              "    (module): LSTM(1550, 1550, batch_first=True)\n",
              "  )\n",
              "  (1): RNNDropout()\n",
              "), Sequential(\n",
              "  (0): WeightDropout(\n",
              "    (module): LSTM(1550, 1550, batch_first=True)\n",
              "  )\n",
              "  (1): RNNDropout()\n",
              "), Sequential(\n",
              "  (0): WeightDropout(\n",
              "    (module): LSTM(1550, 400, batch_first=True)\n",
              "  )\n",
              "  (1): RNNDropout()\n",
              "), Sequential(\n",
              "  (0): PoolingLinearClassifier(\n",
              "    (layers): Sequential(\n",
              "      (0): BatchNorm1d(1200, eps=1e-05, momentum=0.1, affine=True, track_running_stats=True)\n",
              "      (1): Dropout(p=0.125, inplace=False)\n",
              "      (2): Linear(in_features=1200, out_features=50, bias=True)\n",
              "      (3): ReLU(inplace=True)\n",
              "      (4): BatchNorm1d(50, eps=1e-05, momentum=0.1, affine=True, track_running_stats=True)\n",
              "      (5): Dropout(p=0.1, inplace=False)\n",
              "      (6): Linear(in_features=50, out_features=7, bias=True)\n",
              "    )\n",
              "  )\n",
              ")], add_time=True, silent=False)"
            ]
          },
          "metadata": {
            "tags": []
          },
          "execution_count": 30
        }
      ]
    },
    {
      "cell_type": "code",
      "metadata": {
        "id": "sXyUuTxQF8nJ",
        "colab_type": "code",
        "outputId": "18ccb74a-5ca3-45a6-bc08-c3a8c38a213c",
        "colab": {
          "base_uri": "https://localhost:8080/",
          "height": 374
        }
      },
      "source": [
        "learn.lr_find()\n",
        "learn.recorder.plot()"
      ],
      "execution_count": 0,
      "outputs": [
        {
          "output_type": "display_data",
          "data": {
            "text/html": [
              "\n",
              "    <div>\n",
              "        <style>\n",
              "            /* Turns off some styling */\n",
              "            progress {\n",
              "                /* gets rid of default border in Firefox and Opera. */\n",
              "                border: none;\n",
              "                /* Needs to be in here for Safari polyfill so background images work as expected. */\n",
              "                background-size: auto;\n",
              "            }\n",
              "            .progress-bar-interrupted, .progress-bar-interrupted::-webkit-progress-bar {\n",
              "                background: #F44336;\n",
              "            }\n",
              "        </style>\n",
              "      <progress value='0' class='' max='1' style='width:300px; height:20px; vertical-align: middle;'></progress>\n",
              "      0.00% [0/1 00:00<00:00]\n",
              "    </div>\n",
              "    \n",
              "<table border=\"1\" class=\"dataframe\">\n",
              "  <thead>\n",
              "    <tr style=\"text-align: left;\">\n",
              "      <th>epoch</th>\n",
              "      <th>train_loss</th>\n",
              "      <th>valid_loss</th>\n",
              "      <th>accuracy</th>\n",
              "      <th>time</th>\n",
              "    </tr>\n",
              "  </thead>\n",
              "  <tbody>\n",
              "  </tbody>\n",
              "</table><p>\n",
              "\n",
              "    <div>\n",
              "        <style>\n",
              "            /* Turns off some styling */\n",
              "            progress {\n",
              "                /* gets rid of default border in Firefox and Opera. */\n",
              "                border: none;\n",
              "                /* Needs to be in here for Safari polyfill so background images work as expected. */\n",
              "                background-size: auto;\n",
              "            }\n",
              "            .progress-bar-interrupted, .progress-bar-interrupted::-webkit-progress-bar {\n",
              "                background: #F44336;\n",
              "            }\n",
              "        </style>\n",
              "      <progress value='87' class='' max='152' style='width:300px; height:20px; vertical-align: middle;'></progress>\n",
              "      57.24% [87/152 00:02<00:02 1.8993]\n",
              "    </div>\n",
              "    "
            ],
            "text/plain": [
              "<IPython.core.display.HTML object>"
            ]
          },
          "metadata": {
            "tags": []
          }
        },
        {
          "output_type": "stream",
          "text": [
            "LR Finder is complete, type {learner_name}.recorder.plot() to see the graph.\n"
          ],
          "name": "stdout"
        },
        {
          "output_type": "display_data",
          "data": {
            "image/png": "[encoded data removed]",
            "text/plain": [
              "<Figure size 432x288 with 1 Axes>"
            ]
          },
          "metadata": {
            "tags": [],
            "needs_background": "light"
          }
        }
      ]
    },
    {
      "cell_type": "code",
      "metadata": {
        "id": "w2eQrAk5F8nL",
        "colab_type": "code",
        "outputId": "d7c5ca72-eb0c-4a8e-fc3f-4b2a86151a53",
        "colab": {
          "base_uri": "https://localhost:8080/",
          "height": 80
        }
      },
      "source": [
        "#train unfrozen\n",
        "learn.freeze_to(-1)\n",
        "learn.fit_one_cycle(1, 2e-2, moms=(0.8, 0.7))"
      ],
      "execution_count": 0,
      "outputs": [
        {
          "output_type": "display_data",
          "data": {
            "text/html": [
              "<table border=\"1\" class=\"dataframe\">\n",
              "  <thead>\n",
              "    <tr style=\"text-align: left;\">\n",
              "      <th>epoch</th>\n",
              "      <th>train_loss</th>\n",
              "      <th>valid_loss</th>\n",
              "      <th>accuracy</th>\n",
              "      <th>time</th>\n",
              "    </tr>\n",
              "  </thead>\n",
              "  <tbody>\n",
              "    <tr>\n",
              "      <td>0</td>\n",
              "      <td>0.825627</td>\n",
              "      <td>0.755235</td>\n",
              "      <td>0.724272</td>\n",
              "      <td>00:05</td>\n",
              "    </tr>\n",
              "  </tbody>\n",
              "</table>"
            ],
            "text/plain": [
              "<IPython.core.display.HTML object>"
            ]
          },
          "metadata": {
            "tags": []
          }
        }
      ]
    },
    {
      "cell_type": "code",
      "metadata": {
        "id": "TvetXFJ_F8nO",
        "colab_type": "code",
        "outputId": "16b7c62b-b93f-41c3-be66-53ea7e06750e",
        "colab": {
          "base_uri": "https://localhost:8080/",
          "height": 302
        }
      },
      "source": [
        "#gradual unfreezing\n",
        "learn.freeze_to(-2)\n",
        "learn.fit_one_cycle(1, slice(1e-2 / (2.6 ** 4), 1e-2), moms=(0.8, 0.7))\n",
        "learn.freeze_to(-3)\n",
        "learn.fit_one_cycle(1, slice(5e-3 / (2.6 ** 4), 5e-3), moms=(0.8, 0.7))\n",
        "learn.unfreeze()\n",
        "learn.fit_one_cycle(3, slice(1e-3 / (2.6 ** 4), 1e-3), moms=(0.8, 0.7), \n",
        "                   callbacks=[SaveModelCallback(learn, every='improvement', monitor='accuracy', name='truevoice_cls')])"
      ],
      "execution_count": 0,
      "outputs": [
        {
          "output_type": "display_data",
          "data": {
            "text/html": [
              "<table border=\"1\" class=\"dataframe\">\n",
              "  <thead>\n",
              "    <tr style=\"text-align: left;\">\n",
              "      <th>epoch</th>\n",
              "      <th>train_loss</th>\n",
              "      <th>valid_loss</th>\n",
              "      <th>accuracy</th>\n",
              "      <th>time</th>\n",
              "    </tr>\n",
              "  </thead>\n",
              "  <tbody>\n",
              "    <tr>\n",
              "      <td>0</td>\n",
              "      <td>0.646933</td>\n",
              "      <td>0.625633</td>\n",
              "      <td>0.782524</td>\n",
              "      <td>00:05</td>\n",
              "    </tr>\n",
              "  </tbody>\n",
              "</table>"
            ],
            "text/plain": [
              "<IPython.core.display.HTML object>"
            ]
          },
          "metadata": {
            "tags": []
          }
        },
        {
          "output_type": "display_data",
          "data": {
            "text/html": [
              "<table border=\"1\" class=\"dataframe\">\n",
              "  <thead>\n",
              "    <tr style=\"text-align: left;\">\n",
              "      <th>epoch</th>\n",
              "      <th>train_loss</th>\n",
              "      <th>valid_loss</th>\n",
              "      <th>accuracy</th>\n",
              "      <th>time</th>\n",
              "    </tr>\n",
              "  </thead>\n",
              "  <tbody>\n",
              "    <tr>\n",
              "      <td>0</td>\n",
              "      <td>0.513058</td>\n",
              "      <td>0.525635</td>\n",
              "      <td>0.823301</td>\n",
              "      <td>00:09</td>\n",
              "    </tr>\n",
              "  </tbody>\n",
              "</table>"
            ],
            "text/plain": [
              "<IPython.core.display.HTML object>"
            ]
          },
          "metadata": {
            "tags": []
          }
        },
        {
          "output_type": "display_data",
          "data": {
            "text/html": [
              "<table border=\"1\" class=\"dataframe\">\n",
              "  <thead>\n",
              "    <tr style=\"text-align: left;\">\n",
              "      <th>epoch</th>\n",
              "      <th>train_loss</th>\n",
              "      <th>valid_loss</th>\n",
              "      <th>accuracy</th>\n",
              "      <th>time</th>\n",
              "    </tr>\n",
              "  </thead>\n",
              "  <tbody>\n",
              "    <tr>\n",
              "      <td>0</td>\n",
              "      <td>0.351930</td>\n",
              "      <td>0.511117</td>\n",
              "      <td>0.821359</td>\n",
              "      <td>00:14</td>\n",
              "    </tr>\n",
              "    <tr>\n",
              "      <td>1</td>\n",
              "      <td>0.289966</td>\n",
              "      <td>0.506727</td>\n",
              "      <td>0.840777</td>\n",
              "      <td>00:15</td>\n",
              "    </tr>\n",
              "    <tr>\n",
              "      <td>2</td>\n",
              "      <td>0.198917</td>\n",
              "      <td>0.518295</td>\n",
              "      <td>0.836893</td>\n",
              "      <td>00:16</td>\n",
              "    </tr>\n",
              "  </tbody>\n",
              "</table>"
            ],
            "text/plain": [
              "<IPython.core.display.HTML object>"
            ]
          },
          "metadata": {
            "tags": []
          }
        },
        {
          "output_type": "stream",
          "text": [
            "Better model found at epoch 0 with accuracy value: 0.8213592171669006.\n",
            "Better model found at epoch 1 with accuracy value: 0.8407766819000244.\n"
          ],
          "name": "stdout"
        }
      ]
    },
    {
      "cell_type": "code",
      "metadata": {
        "id": "BMgA0Zc3F8nQ",
        "colab_type": "code",
        "outputId": "8609b6dc-07cc-4459-9a2c-00a720edeec2",
        "colab": {
          "base_uri": "https://localhost:8080/",
          "height": 17
        }
      },
      "source": [
        "probs, y_true = learn.get_preds(ds_type = DatasetType.Test, ordered=True)\n",
        "classes = learn.data.train_ds.classes\n",
        "y_true = np.array([classes[i] for i in y_true.numpy()])\n",
        "preds = np.array([classes[i] for i in probs.argmax(1).numpy()])\n",
        "prob = probs.numpy()"
      ],
      "execution_count": 0,
      "outputs": [
        {
          "output_type": "display_data",
          "data": {
            "text/html": [
              ""
            ],
            "text/plain": [
              "<IPython.core.display.HTML object>"
            ]
          },
          "metadata": {
            "tags": []
          }
        }
      ]
    },
    {
      "cell_type": "code",
      "metadata": {
        "id": "BYUw0QO7F8nT",
        "colab_type": "code",
        "colab": {}
      },
      "source": [
        "from sklearn.metrics import f1_score, precision_score, recall_score\n",
        "from sklearn.preprocessing import OneHotEncoder\n",
        "enc = OneHotEncoder(handle_unknown='ignore')\n",
        "\n",
        "enc_fit = enc.fit(test_df[y][:,None])\n",
        "pred_ohe = enc_fit.transform(preds[:,None]).toarray()\n",
        "y_ohe = enc_fit.transform(test_df[y][:,None]).toarray()"
      ],
      "execution_count": 0,
      "outputs": []
    },
    {
      "cell_type": "code",
      "metadata": {
        "id": "-ykybHjqF8nV",
        "colab_type": "code",
        "outputId": "959293d8-586a-4475-a950-70f26ee9a968",
        "colab": {
          "base_uri": "https://localhost:8080/",
          "height": 136
        }
      },
      "source": [
        "import warnings\n",
        "warnings.filterwarnings(\"ignore\")\n",
        "\n",
        "ds = []\n",
        "\n",
        "#macro metrics\n",
        "for i in range(nb_class):\n",
        "    ds.append({'acc':(pred_ohe[:,i]==y_ohe[:,i]).mean(),\n",
        "               'f1':f1_score(pred_ohe[:,i],y_ohe[:,i]),\n",
        "               'precision':precision_score(pred_ohe[:,i],y_ohe[:,i]),\n",
        "               'recall':recall_score(pred_ohe[:,i],y_ohe[:,i])})\n",
        "    print(\n",
        "        (pred_ohe[:,i]==y_ohe[:,i]).mean(),\n",
        "        f1_score(pred_ohe[:,i],y_ohe[:,i]),\n",
        "        precision_score(pred_ohe[:,i],y_ohe[:,i]),\n",
        "        recall_score(pred_ohe[:,i],y_ohe[:,i])\n",
        "         )"
      ],
      "execution_count": 0,
      "outputs": [
        {
          "output_type": "stream",
          "text": [
            "0.9117759877253548 0.8847695390781563 0.8991853360488798 0.8708086785009862\n",
            "0.9942462600690449 0.9142857142857143 0.8888888888888888 0.9411764705882353\n",
            "0.9286536248561565 0.7680798004987532 0.7661691542288557 0.77\n",
            "0.9957805907172996 0.8764044943820225 0.8297872340425532 0.9285714285714286\n",
            "0.9301879555044112 0.7912844036697246 0.7516339869281046 0.8353510895883777\n",
            "0.9290372075182202 0.8436179205409974 0.8678260869565217 0.8207236842105263\n",
            "0.9957805907172996 0.88659793814433 0.8269230769230769 0.9555555555555556\n"
          ],
          "name": "stdout"
        }
      ]
    },
    {
      "cell_type": "code",
      "metadata": {
        "id": "7xHHta-TMvB5",
        "colab_type": "code",
        "outputId": "1ef5757f-0413-4b1f-b989-436df3c2cf95",
        "colab": {
          "base_uri": "https://localhost:8080/",
          "height": 102
        }
      },
      "source": [
        "#macro statistics\n",
        "pd.DataFrame(ds).mean()"
      ],
      "execution_count": 0,
      "outputs": [
        {
          "output_type": "execute_result",
          "data": {
            "text/plain": [
              "acc          0.955066\n",
              "f1           0.852149\n",
              "precision    0.832916\n",
              "recall       0.874598\n",
              "dtype: float64"
            ]
          },
          "metadata": {
            "tags": []
          },
          "execution_count": 41
        }
      ]
    },
    {
      "cell_type": "code",
      "metadata": {
        "id": "1cVVByQGF8nY",
        "colab_type": "code",
        "outputId": "281745ad-1594-4d69-c754-f7cfefc82573",
        "colab": {
          "base_uri": "https://localhost:8080/",
          "height": 102
        }
      },
      "source": [
        "print('micro metrics')\n",
        "(preds==test_df[y]).mean(), \\\n",
        "f1_score(test_df[y],preds,average='micro'), \\\n",
        "precision_score(test_df[y],preds,average='micro'), \\\n",
        "recall_score(test_df[y],preds,average='micro')"
      ],
      "execution_count": 0,
      "outputs": [
        {
          "output_type": "stream",
          "text": [
            "micro metrics\n"
          ],
          "name": "stdout"
        },
        {
          "output_type": "execute_result",
          "data": {
            "text/plain": [
              "(0.8427311085538933,\n",
              " 0.8427311085538933,\n",
              " 0.8427311085538933,\n",
              " 0.8427311085538933)"
            ]
          },
          "metadata": {
            "tags": []
          },
          "execution_count": 37
        }
      ]
    },
    {
      "cell_type": "markdown",
      "metadata": {
        "id": "PjHJAyMYzVh4",
        "colab_type": "text"
      },
      "source": [
        "## [Multilingual Universal Sentence Encoder](https://tfhub.dev/google/universal-sentence-encoder-multilingual/3)"
      ]
    },
    {
      "cell_type": "markdown",
      "metadata": {
        "id": "9TBvWMVzz7Lo",
        "colab_type": "text"
      },
      "source": [
        "Multilingual universal sentence encoder produces 512 embeddings that represent each sentence. We use those features to predict the labels."
      ]
    },
    {
      "cell_type": "code",
      "metadata": {
        "id": "HbZVX9KOzbDO",
        "colab_type": "code",
        "colab": {}
      },
      "source": [
        "import tensorflow_hub as hub\n",
        "import tensorflow_text\n",
        "import tensorflow as tf #tensorflow 2.1.0\n",
        "\n",
        "enc = hub.load('https://tfhub.dev/google/universal-sentence-encoder-multilingual/3')"
      ],
      "execution_count": 0,
      "outputs": []
    },
    {
      "cell_type": "code",
      "metadata": {
        "id": "DMXsDAJUziCi",
        "colab_type": "code",
        "outputId": "9ecdfe73-e448-4fa4-a5e4-07cd692408ff",
        "colab": {
          "base_uri": "https://localhost:8080/",
          "height": 34
        }
      },
      "source": [
        "train_df.shape, valid_df.shape, test_df.shape"
      ],
      "execution_count": 0,
      "outputs": [
        {
          "output_type": "execute_result",
          "data": {
            "text/plain": [
              "((8757, 5), (1546, 5), (2607, 5))"
            ]
          },
          "metadata": {
            "tags": []
          },
          "execution_count": 12
        }
      ]
    },
    {
      "cell_type": "code",
      "metadata": {
        "id": "3_fqSBOUzvDz",
        "colab_type": "code",
        "outputId": "e9b97274-69b6-4bb0-915d-ad9ceb0c7d32",
        "colab": {
          "base_uri": "https://localhost:8080/",
          "height": 34
        }
      },
      "source": [
        "X_train = enc(train_df.texts).numpy()\n",
        "X_valid = enc(valid_df.texts).numpy()\n",
        "X_test = enc(test_df.texts).numpy()\n",
        "X_train.shape, X_valid.shape, X_test.shape"
      ],
      "execution_count": 0,
      "outputs": [
        {
          "output_type": "execute_result",
          "data": {
            "text/plain": [
              "((8757, 512), (1546, 512), (2607, 512))"
            ]
          },
          "metadata": {
            "tags": []
          },
          "execution_count": 25
        }
      ]
    },
    {
      "cell_type": "code",
      "metadata": {
        "id": "gRg2fgVG1EQG",
        "colab_type": "code",
        "outputId": "50a039d3-35ca-42ad-a612-b783d0cf2279",
        "colab": {
          "base_uri": "https://localhost:8080/",
          "height": 34
        }
      },
      "source": [
        "y_train, y_valid, y_test = train_df[y], valid_df[y], test_df[y]\n",
        "y_train.shape, y_valid.shape, y_test.shape"
      ],
      "execution_count": 0,
      "outputs": [
        {
          "output_type": "execute_result",
          "data": {
            "text/plain": [
              "((8757,), (1546,), (2607,))"
            ]
          },
          "metadata": {
            "tags": []
          },
          "execution_count": 26
        }
      ]
    },
    {
      "cell_type": "code",
      "metadata": {
        "id": "YU7tGmeX0ixI",
        "colab_type": "code",
        "outputId": "9977d832-38fa-4f88-d0fe-cbb90e1c5a6a",
        "colab": {
          "base_uri": "https://localhost:8080/",
          "height": 85
        }
      },
      "source": [
        "from sklearn.svm import LinearSVC\n",
        "\n",
        "text_clf = LinearSVC(class_weight='balanced')\n",
        "text_clf.fit(X_train, y_train)"
      ],
      "execution_count": 0,
      "outputs": [
        {
          "output_type": "execute_result",
          "data": {
            "text/plain": [
              "LinearSVC(C=1.0, class_weight='balanced', dual=True, fit_intercept=True,\n",
              "          intercept_scaling=1, loss='squared_hinge', max_iter=1000,\n",
              "          multi_class='ovr', penalty='l2', random_state=None, tol=0.0001,\n",
              "          verbose=0)"
            ]
          },
          "metadata": {
            "tags": []
          },
          "execution_count": 34
        }
      ]
    },
    {
      "cell_type": "code",
      "metadata": {
        "id": "rxyjHUHe1TBb",
        "colab_type": "code",
        "outputId": "07c06174-c6ec-4860-c9e0-d302f9ea6c31",
        "colab": {
          "base_uri": "https://localhost:8080/",
          "height": 34
        }
      },
      "source": [
        "pred = text_clf.predict(X_test)\n",
        "(pred==y_test).mean()"
      ],
      "execution_count": 0,
      "outputs": [
        {
          "output_type": "execute_result",
          "data": {
            "text/plain": [
              "0.8024549290372075"
            ]
          },
          "metadata": {
            "tags": []
          },
          "execution_count": 35
        }
      ]
    },
    {
      "cell_type": "code",
      "metadata": {
        "id": "sHgpkUlf1Vwl",
        "colab_type": "code",
        "colab": {}
      },
      "source": [
        "from sklearn.preprocessing import OneHotEncoder\n",
        "enc = OneHotEncoder(handle_unknown='ignore')\n",
        "pred_lab = text_clf.predict(X_test)\n",
        "\n",
        "enc_fit = enc.fit(test_df[y][:,None])\n",
        "pred_ohe = enc_fit.transform(pred_lab[:,None]).toarray()\n",
        "y_ohe = enc_fit.transform(test_df[y][:,None]).toarray()"
      ],
      "execution_count": 0,
      "outputs": []
    },
    {
      "cell_type": "code",
      "metadata": {
        "id": "KDHURDgJ2L-f",
        "colab_type": "code",
        "outputId": "eb70d9c8-0693-41ef-c36a-e664de1a86cf",
        "colab": {
          "base_uri": "https://localhost:8080/",
          "height": 136
        }
      },
      "source": [
        "import warnings\n",
        "warnings.filterwarnings(\"ignore\")\n",
        "\n",
        "ds = []\n",
        "\n",
        "#macro metrics\n",
        "for i in range(nb_class):\n",
        "    ds.append({'acc':(pred_ohe[:,i]==y_ohe[:,i]).mean(),\n",
        "               'f1':f1_score(pred_ohe[:,i],y_ohe[:,i]),\n",
        "               'precision':precision_score(pred_ohe[:,i],y_ohe[:,i]),\n",
        "               'recall':recall_score(pred_ohe[:,i],y_ohe[:,i])})\n",
        "    print(\n",
        "        (pred_ohe[:,i]==y_ohe[:,i]).mean(),\n",
        "        f1_score(pred_ohe[:,i],y_ohe[:,i]),\n",
        "        precision_score(pred_ohe[:,i],y_ohe[:,i]),\n",
        "        recall_score(pred_ohe[:,i],y_ohe[:,i])\n",
        "         )"
      ],
      "execution_count": 0,
      "outputs": [
        {
          "output_type": "stream",
          "text": [
            "0.8853087840429612 0.8417151932239281 0.8095723014256619 0.87651598676957\n",
            "0.9907940161104718 0.8723404255319148 0.9111111111111111 0.8367346938775511\n",
            "0.9148446490218642 0.74364896073903 0.8009950248756219 0.6939655172413793\n",
            "0.9911775987725355 0.7722772277227723 0.8297872340425532 0.7222222222222222\n",
            "0.9163789796701189 0.7528344671201814 0.7233115468409586 0.7848699763593381\n",
            "0.9202148062907557 0.8213058419243986 0.831304347826087 0.8115449915110357\n",
            "0.9861910241657077 0.7096774193548387 0.8461538461538461 0.6111111111111112\n"
          ],
          "name": "stdout"
        }
      ]
    },
    {
      "cell_type": "code",
      "metadata": {
        "id": "i-G3sVx02Nry",
        "colab_type": "code",
        "outputId": "79e77508-fdb8-44fa-dc8b-feeb4e4555ff",
        "colab": {
          "base_uri": "https://localhost:8080/",
          "height": 102
        }
      },
      "source": [
        "pd.DataFrame(ds).mean()"
      ],
      "execution_count": 0,
      "outputs": [
        {
          "output_type": "execute_result",
          "data": {
            "text/plain": [
              "acc          0.943559\n",
              "f1           0.787686\n",
              "precision    0.821748\n",
              "recall       0.762423\n",
              "dtype: float64"
            ]
          },
          "metadata": {
            "tags": []
          },
          "execution_count": 38
        }
      ]
    },
    {
      "cell_type": "code",
      "metadata": {
        "id": "zWeYKPRS2Pl8",
        "colab_type": "code",
        "outputId": "893e3857-38a1-4e99-f674-5b9a2c04d972",
        "colab": {
          "base_uri": "https://localhost:8080/",
          "height": 102
        }
      },
      "source": [
        "print('micro metrics')\n",
        "(pred_ohe==y_ohe).mean(), \\\n",
        "f1_score(y_ohe,pred_ohe,average='micro'), \\\n",
        "precision_score(y_ohe,pred_ohe,average='micro'), \\\n",
        "recall_score(y_ohe,pred_ohe,average='micro')"
      ],
      "execution_count": 0,
      "outputs": [
        {
          "output_type": "stream",
          "text": [
            "micro metrics\n"
          ],
          "name": "stdout"
        },
        {
          "output_type": "execute_result",
          "data": {
            "text/plain": [
              "(0.9435585511534879,\n",
              " 0.8024549290372075,\n",
              " 0.8024549290372075,\n",
              " 0.8024549290372075)"
            ]
          },
          "metadata": {
            "tags": []
          },
          "execution_count": 39
        }
      ]
    },
    {
      "cell_type": "code",
      "metadata": {
        "id": "JJWrFey72RVN",
        "colab_type": "code",
        "colab": {}
      },
      "source": [
        ""
      ],
      "execution_count": 0,
      "outputs": []
    }
  ]
}